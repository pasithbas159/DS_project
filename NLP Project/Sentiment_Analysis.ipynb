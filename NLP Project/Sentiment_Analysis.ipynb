{
 "cells": [
  {
   "cell_type": "markdown",
   "metadata": {},
   "source": [
    "## Context\n",
    "This is the sentiment140 dataset. It contains 1,600,000 tweets extracted using the twitter api . The tweets have been annotated (0 = negative, 4 = positive) and they can be used to detect sentiment .\n",
    "\n",
    "### Content\n",
    "It contains the following 6 fields:\n",
    "\n",
    "target: the polarity of the tweet (0 = negative, 2 = neutral, 4 = positive)\n",
    "\n",
    "ids: The id of the tweet ( 2087)\n",
    "\n",
    "date: the date of the tweet (Sat May 16 23:58:44 UTC 2009)\n",
    "\n",
    "flag: The query (lyx). If there is no query, then this value is NO_QUERY.\n",
    "\n",
    "user: the user that tweeted (robotickilldozr)\n",
    "\n",
    "text: the text of the tweet (Lyx is cool)\n",
    "\n",
    "### Acknowledgements\n",
    "The official link regarding the dataset with resources about how it was generated is here\n",
    "The official paper detailing the approach is here\n",
    "\n",
    "Citation: Go, A., Bhayani, R. and Huang, L., 2009. Twitter sentiment classification using distant supervision. CS224N Project Report, Stanford, 1(2009), p.12.\n",
    "\n",
    "### Inspiration\n",
    "To detect severity from tweets. You may have a look at this."
   ]
  },
  {
   "cell_type": "code",
   "execution_count": 0,
   "metadata": {
    "colab": {},
    "colab_type": "code",
    "id": "Gc52xERtmG4s"
   },
   "outputs": [],
   "source": [
    "import pandas as pd\n",
    "import numpy as np\n",
    "import re"
   ]
  },
  {
   "cell_type": "code",
   "execution_count": 2,
   "metadata": {
    "colab": {
     "base_uri": "https://localhost:8080/",
     "height": 34
    },
    "colab_type": "code",
    "id": "BqBKhO712Q-l",
    "outputId": "7fe8d4cd-5cfe-42c2-a963-c5ac8b0aac84"
   },
   "outputs": [
    {
     "name": "stdout",
     "output_type": "stream",
     "text": [
      "Drive already mounted at /content/drive; to attempt to forcibly remount, call drive.mount(\"/content/drive\", force_remount=True).\n"
     ]
    }
   ],
   "source": [
    "from google.colab import drive\n",
    "drive.mount('/content/drive')"
   ]
  },
  {
   "cell_type": "code",
   "execution_count": 3,
   "metadata": {
    "colab": {
     "base_uri": "https://localhost:8080/",
     "height": 402
    },
    "colab_type": "code",
    "id": "ow4v68YtmG40",
    "outputId": "78609d71-3f51-46ca-df9c-5c5ff64c464b"
   },
   "outputs": [
    {
     "data": {
      "text/html": [
       "<div>\n",
       "<style scoped>\n",
       "    .dataframe tbody tr th:only-of-type {\n",
       "        vertical-align: middle;\n",
       "    }\n",
       "\n",
       "    .dataframe tbody tr th {\n",
       "        vertical-align: top;\n",
       "    }\n",
       "\n",
       "    .dataframe thead th {\n",
       "        text-align: right;\n",
       "    }\n",
       "</style>\n",
       "<table border=\"1\" class=\"dataframe\">\n",
       "  <thead>\n",
       "    <tr style=\"text-align: right;\">\n",
       "      <th></th>\n",
       "      <th>0</th>\n",
       "      <th>1</th>\n",
       "      <th>2</th>\n",
       "      <th>3</th>\n",
       "      <th>4</th>\n",
       "      <th>5</th>\n",
       "    </tr>\n",
       "  </thead>\n",
       "  <tbody>\n",
       "    <tr>\n",
       "      <th>0</th>\n",
       "      <td>0</td>\n",
       "      <td>1467810369</td>\n",
       "      <td>Mon Apr 06 22:19:45 PDT 2009</td>\n",
       "      <td>NO_QUERY</td>\n",
       "      <td>_TheSpecialOne_</td>\n",
       "      <td>@switchfoot http://twitpic.com/2y1zl - Awww, t...</td>\n",
       "    </tr>\n",
       "    <tr>\n",
       "      <th>1</th>\n",
       "      <td>0</td>\n",
       "      <td>1467810672</td>\n",
       "      <td>Mon Apr 06 22:19:49 PDT 2009</td>\n",
       "      <td>NO_QUERY</td>\n",
       "      <td>scotthamilton</td>\n",
       "      <td>is upset that he can't update his Facebook by ...</td>\n",
       "    </tr>\n",
       "    <tr>\n",
       "      <th>2</th>\n",
       "      <td>0</td>\n",
       "      <td>1467810917</td>\n",
       "      <td>Mon Apr 06 22:19:53 PDT 2009</td>\n",
       "      <td>NO_QUERY</td>\n",
       "      <td>mattycus</td>\n",
       "      <td>@Kenichan I dived many times for the ball. Man...</td>\n",
       "    </tr>\n",
       "    <tr>\n",
       "      <th>3</th>\n",
       "      <td>0</td>\n",
       "      <td>1467811184</td>\n",
       "      <td>Mon Apr 06 22:19:57 PDT 2009</td>\n",
       "      <td>NO_QUERY</td>\n",
       "      <td>ElleCTF</td>\n",
       "      <td>my whole body feels itchy and like its on fire</td>\n",
       "    </tr>\n",
       "    <tr>\n",
       "      <th>4</th>\n",
       "      <td>0</td>\n",
       "      <td>1467811193</td>\n",
       "      <td>Mon Apr 06 22:19:57 PDT 2009</td>\n",
       "      <td>NO_QUERY</td>\n",
       "      <td>Karoli</td>\n",
       "      <td>@nationwideclass no, it's not behaving at all....</td>\n",
       "    </tr>\n",
       "    <tr>\n",
       "      <th>...</th>\n",
       "      <td>...</td>\n",
       "      <td>...</td>\n",
       "      <td>...</td>\n",
       "      <td>...</td>\n",
       "      <td>...</td>\n",
       "      <td>...</td>\n",
       "    </tr>\n",
       "    <tr>\n",
       "      <th>1599995</th>\n",
       "      <td>4</td>\n",
       "      <td>2193601966</td>\n",
       "      <td>Tue Jun 16 08:40:49 PDT 2009</td>\n",
       "      <td>NO_QUERY</td>\n",
       "      <td>AmandaMarie1028</td>\n",
       "      <td>Just woke up. Having no school is the best fee...</td>\n",
       "    </tr>\n",
       "    <tr>\n",
       "      <th>1599996</th>\n",
       "      <td>4</td>\n",
       "      <td>2193601969</td>\n",
       "      <td>Tue Jun 16 08:40:49 PDT 2009</td>\n",
       "      <td>NO_QUERY</td>\n",
       "      <td>TheWDBoards</td>\n",
       "      <td>TheWDB.com - Very cool to hear old Walt interv...</td>\n",
       "    </tr>\n",
       "    <tr>\n",
       "      <th>1599997</th>\n",
       "      <td>4</td>\n",
       "      <td>2193601991</td>\n",
       "      <td>Tue Jun 16 08:40:49 PDT 2009</td>\n",
       "      <td>NO_QUERY</td>\n",
       "      <td>bpbabe</td>\n",
       "      <td>Are you ready for your MoJo Makeover? Ask me f...</td>\n",
       "    </tr>\n",
       "    <tr>\n",
       "      <th>1599998</th>\n",
       "      <td>4</td>\n",
       "      <td>2193602064</td>\n",
       "      <td>Tue Jun 16 08:40:49 PDT 2009</td>\n",
       "      <td>NO_QUERY</td>\n",
       "      <td>tinydiamondz</td>\n",
       "      <td>Happy 38th Birthday to my boo of alll time!!! ...</td>\n",
       "    </tr>\n",
       "    <tr>\n",
       "      <th>1599999</th>\n",
       "      <td>4</td>\n",
       "      <td>2193602129</td>\n",
       "      <td>Tue Jun 16 08:40:50 PDT 2009</td>\n",
       "      <td>NO_QUERY</td>\n",
       "      <td>RyanTrevMorris</td>\n",
       "      <td>happy #charitytuesday @theNSPCC @SparksCharity...</td>\n",
       "    </tr>\n",
       "  </tbody>\n",
       "</table>\n",
       "<p>1600000 rows × 6 columns</p>\n",
       "</div>"
      ],
      "text/plain": [
       "         0  ...                                                  5\n",
       "0        0  ...  @switchfoot http://twitpic.com/2y1zl - Awww, t...\n",
       "1        0  ...  is upset that he can't update his Facebook by ...\n",
       "2        0  ...  @Kenichan I dived many times for the ball. Man...\n",
       "3        0  ...    my whole body feels itchy and like its on fire \n",
       "4        0  ...  @nationwideclass no, it's not behaving at all....\n",
       "...     ..  ...                                                ...\n",
       "1599995  4  ...  Just woke up. Having no school is the best fee...\n",
       "1599996  4  ...  TheWDB.com - Very cool to hear old Walt interv...\n",
       "1599997  4  ...  Are you ready for your MoJo Makeover? Ask me f...\n",
       "1599998  4  ...  Happy 38th Birthday to my boo of alll time!!! ...\n",
       "1599999  4  ...  happy #charitytuesday @theNSPCC @SparksCharity...\n",
       "\n",
       "[1600000 rows x 6 columns]"
      ]
     },
     "execution_count": 3,
     "metadata": {
      "tags": []
     },
     "output_type": "execute_result"
    }
   ],
   "source": [
    "df = pd.read_csv('/content/drive/My Drive/training.csv', encoding='latin1', header=None)\n",
    "df"
   ]
  },
  {
   "cell_type": "code",
   "execution_count": 0,
   "metadata": {
    "colab": {},
    "colab_type": "code",
    "id": "B2RdzhRymG47"
   },
   "outputs": [],
   "source": [
    "df = pd.DataFrame(df).rename(columns={0:'target', 1:'id', 2:'date', 3:'flag', 4:'user', 5:'text'})"
   ]
  },
  {
   "cell_type": "code",
   "execution_count": 5,
   "metadata": {
    "colab": {
     "base_uri": "https://localhost:8080/",
     "height": 235
    },
    "colab_type": "code",
    "id": "0zXSpQtDmG5B",
    "outputId": "ec600746-56c9-406c-8b5b-57a2678887c4"
   },
   "outputs": [
    {
     "name": "stdout",
     "output_type": "stream",
     "text": [
      "<class 'pandas.core.frame.DataFrame'>\n",
      "RangeIndex: 1600000 entries, 0 to 1599999\n",
      "Data columns (total 6 columns):\n",
      " #   Column  Non-Null Count    Dtype \n",
      "---  ------  --------------    ----- \n",
      " 0   target  1600000 non-null  int64 \n",
      " 1   id      1600000 non-null  int64 \n",
      " 2   date    1600000 non-null  object\n",
      " 3   flag    1600000 non-null  object\n",
      " 4   user    1600000 non-null  object\n",
      " 5   text    1600000 non-null  object\n",
      "dtypes: int64(2), object(4)\n",
      "memory usage: 73.2+ MB\n"
     ]
    }
   ],
   "source": [
    "df.info()"
   ]
  },
  {
   "cell_type": "code",
   "execution_count": 0,
   "metadata": {
    "colab": {},
    "colab_type": "code",
    "id": "4_rRwGGImG5H"
   },
   "outputs": [],
   "source": [
    "df.target = df.target.apply(lambda x:int((x/2)/2))"
   ]
  },
  {
   "cell_type": "code",
   "execution_count": 7,
   "metadata": {
    "colab": {
     "base_uri": "https://localhost:8080/",
     "height": 402
    },
    "colab_type": "code",
    "id": "j-Tot5CHmG5M",
    "outputId": "1a6b70a7-e219-430a-d954-f78b06ce1779",
    "scrolled": true
   },
   "outputs": [
    {
     "data": {
      "text/html": [
       "<div>\n",
       "<style scoped>\n",
       "    .dataframe tbody tr th:only-of-type {\n",
       "        vertical-align: middle;\n",
       "    }\n",
       "\n",
       "    .dataframe tbody tr th {\n",
       "        vertical-align: top;\n",
       "    }\n",
       "\n",
       "    .dataframe thead th {\n",
       "        text-align: right;\n",
       "    }\n",
       "</style>\n",
       "<table border=\"1\" class=\"dataframe\">\n",
       "  <thead>\n",
       "    <tr style=\"text-align: right;\">\n",
       "      <th></th>\n",
       "      <th>target</th>\n",
       "      <th>id</th>\n",
       "      <th>date</th>\n",
       "      <th>flag</th>\n",
       "      <th>user</th>\n",
       "      <th>text</th>\n",
       "    </tr>\n",
       "  </thead>\n",
       "  <tbody>\n",
       "    <tr>\n",
       "      <th>0</th>\n",
       "      <td>0</td>\n",
       "      <td>1467810369</td>\n",
       "      <td>Mon Apr 06 22:19:45 PDT 2009</td>\n",
       "      <td>NO_QUERY</td>\n",
       "      <td>_TheSpecialOne_</td>\n",
       "      <td>@switchfoot http://twitpic.com/2y1zl - Awww, t...</td>\n",
       "    </tr>\n",
       "    <tr>\n",
       "      <th>1</th>\n",
       "      <td>0</td>\n",
       "      <td>1467810672</td>\n",
       "      <td>Mon Apr 06 22:19:49 PDT 2009</td>\n",
       "      <td>NO_QUERY</td>\n",
       "      <td>scotthamilton</td>\n",
       "      <td>is upset that he can't update his Facebook by ...</td>\n",
       "    </tr>\n",
       "    <tr>\n",
       "      <th>2</th>\n",
       "      <td>0</td>\n",
       "      <td>1467810917</td>\n",
       "      <td>Mon Apr 06 22:19:53 PDT 2009</td>\n",
       "      <td>NO_QUERY</td>\n",
       "      <td>mattycus</td>\n",
       "      <td>@Kenichan I dived many times for the ball. Man...</td>\n",
       "    </tr>\n",
       "    <tr>\n",
       "      <th>3</th>\n",
       "      <td>0</td>\n",
       "      <td>1467811184</td>\n",
       "      <td>Mon Apr 06 22:19:57 PDT 2009</td>\n",
       "      <td>NO_QUERY</td>\n",
       "      <td>ElleCTF</td>\n",
       "      <td>my whole body feels itchy and like its on fire</td>\n",
       "    </tr>\n",
       "    <tr>\n",
       "      <th>4</th>\n",
       "      <td>0</td>\n",
       "      <td>1467811193</td>\n",
       "      <td>Mon Apr 06 22:19:57 PDT 2009</td>\n",
       "      <td>NO_QUERY</td>\n",
       "      <td>Karoli</td>\n",
       "      <td>@nationwideclass no, it's not behaving at all....</td>\n",
       "    </tr>\n",
       "    <tr>\n",
       "      <th>...</th>\n",
       "      <td>...</td>\n",
       "      <td>...</td>\n",
       "      <td>...</td>\n",
       "      <td>...</td>\n",
       "      <td>...</td>\n",
       "      <td>...</td>\n",
       "    </tr>\n",
       "    <tr>\n",
       "      <th>1599995</th>\n",
       "      <td>1</td>\n",
       "      <td>2193601966</td>\n",
       "      <td>Tue Jun 16 08:40:49 PDT 2009</td>\n",
       "      <td>NO_QUERY</td>\n",
       "      <td>AmandaMarie1028</td>\n",
       "      <td>Just woke up. Having no school is the best fee...</td>\n",
       "    </tr>\n",
       "    <tr>\n",
       "      <th>1599996</th>\n",
       "      <td>1</td>\n",
       "      <td>2193601969</td>\n",
       "      <td>Tue Jun 16 08:40:49 PDT 2009</td>\n",
       "      <td>NO_QUERY</td>\n",
       "      <td>TheWDBoards</td>\n",
       "      <td>TheWDB.com - Very cool to hear old Walt interv...</td>\n",
       "    </tr>\n",
       "    <tr>\n",
       "      <th>1599997</th>\n",
       "      <td>1</td>\n",
       "      <td>2193601991</td>\n",
       "      <td>Tue Jun 16 08:40:49 PDT 2009</td>\n",
       "      <td>NO_QUERY</td>\n",
       "      <td>bpbabe</td>\n",
       "      <td>Are you ready for your MoJo Makeover? Ask me f...</td>\n",
       "    </tr>\n",
       "    <tr>\n",
       "      <th>1599998</th>\n",
       "      <td>1</td>\n",
       "      <td>2193602064</td>\n",
       "      <td>Tue Jun 16 08:40:49 PDT 2009</td>\n",
       "      <td>NO_QUERY</td>\n",
       "      <td>tinydiamondz</td>\n",
       "      <td>Happy 38th Birthday to my boo of alll time!!! ...</td>\n",
       "    </tr>\n",
       "    <tr>\n",
       "      <th>1599999</th>\n",
       "      <td>1</td>\n",
       "      <td>2193602129</td>\n",
       "      <td>Tue Jun 16 08:40:50 PDT 2009</td>\n",
       "      <td>NO_QUERY</td>\n",
       "      <td>RyanTrevMorris</td>\n",
       "      <td>happy #charitytuesday @theNSPCC @SparksCharity...</td>\n",
       "    </tr>\n",
       "  </tbody>\n",
       "</table>\n",
       "<p>1600000 rows × 6 columns</p>\n",
       "</div>"
      ],
      "text/plain": [
       "         target  ...                                               text\n",
       "0             0  ...  @switchfoot http://twitpic.com/2y1zl - Awww, t...\n",
       "1             0  ...  is upset that he can't update his Facebook by ...\n",
       "2             0  ...  @Kenichan I dived many times for the ball. Man...\n",
       "3             0  ...    my whole body feels itchy and like its on fire \n",
       "4             0  ...  @nationwideclass no, it's not behaving at all....\n",
       "...         ...  ...                                                ...\n",
       "1599995       1  ...  Just woke up. Having no school is the best fee...\n",
       "1599996       1  ...  TheWDB.com - Very cool to hear old Walt interv...\n",
       "1599997       1  ...  Are you ready for your MoJo Makeover? Ask me f...\n",
       "1599998       1  ...  Happy 38th Birthday to my boo of alll time!!! ...\n",
       "1599999       1  ...  happy #charitytuesday @theNSPCC @SparksCharity...\n",
       "\n",
       "[1600000 rows x 6 columns]"
      ]
     },
     "execution_count": 7,
     "metadata": {
      "tags": []
     },
     "output_type": "execute_result"
    }
   ],
   "source": [
    "df"
   ]
  },
  {
   "cell_type": "code",
   "execution_count": 0,
   "metadata": {
    "colab": {},
    "colab_type": "code",
    "id": "n_KXjXLQmG5S"
   },
   "outputs": [],
   "source": [
    "df_mod = df[['target', 'text']]"
   ]
  },
  {
   "cell_type": "code",
   "execution_count": 9,
   "metadata": {
    "colab": {
     "base_uri": "https://localhost:8080/",
     "height": 218
    },
    "colab_type": "code",
    "id": "tOBqPGNPmG5X",
    "outputId": "16dfe2c9-8f3e-4126-f930-9fc389733eef",
    "scrolled": true
   },
   "outputs": [
    {
     "name": "stderr",
     "output_type": "stream",
     "text": [
      "/usr/local/lib/python3.6/dist-packages/ipykernel_launcher.py:1: SettingWithCopyWarning: \n",
      "A value is trying to be set on a copy of a slice from a DataFrame.\n",
      "Try using .loc[row_indexer,col_indexer] = value instead\n",
      "\n",
      "See the caveats in the documentation: https://pandas.pydata.org/pandas-docs/stable/user_guide/indexing.html#returning-a-view-versus-a-copy\n",
      "  \"\"\"Entry point for launching an IPython kernel.\n",
      "/usr/local/lib/python3.6/dist-packages/ipykernel_launcher.py:2: SettingWithCopyWarning: \n",
      "A value is trying to be set on a copy of a slice from a DataFrame.\n",
      "Try using .loc[row_indexer,col_indexer] = value instead\n",
      "\n",
      "See the caveats in the documentation: https://pandas.pydata.org/pandas-docs/stable/user_guide/indexing.html#returning-a-view-versus-a-copy\n",
      "  \n"
     ]
    }
   ],
   "source": [
    "df_mod['text'] = df_mod['text'].apply(lambda x: x.lower())\n",
    "df_mod['text'] = df_mod['text'].apply((lambda x: re.sub('[^a-zA-z0-9\\s]','',x)))"
   ]
  },
  {
   "cell_type": "code",
   "execution_count": 0,
   "metadata": {
    "colab": {},
    "colab_type": "code",
    "id": "_PXEO9UGmG5c"
   },
   "outputs": [],
   "source": [
    "SAMPLE_SIZE = 300000"
   ]
  },
  {
   "cell_type": "code",
   "execution_count": 0,
   "metadata": {
    "colab": {},
    "colab_type": "code",
    "id": "C2ZDwKT4mG5k"
   },
   "outputs": [],
   "source": [
    "df_mod = df_mod.sample(SAMPLE_SIZE, random_state=101)"
   ]
  },
  {
   "cell_type": "code",
   "execution_count": 0,
   "metadata": {
    "colab": {},
    "colab_type": "code",
    "id": "zUaa4SucmG5o"
   },
   "outputs": [],
   "source": [
    "from sklearn.model_selection import train_test_split"
   ]
  },
  {
   "cell_type": "code",
   "execution_count": 13,
   "metadata": {
    "colab": {
     "base_uri": "https://localhost:8080/",
     "height": 50
    },
    "colab_type": "code",
    "id": "si-hiph_mG5t",
    "outputId": "863a66a5-1599-4f1d-d438-573e9b6662ab"
   },
   "outputs": [
    {
     "name": "stdout",
     "output_type": "stream",
     "text": [
      "train size: 210000\n",
      "test size: 90000\n"
     ]
    }
   ],
   "source": [
    "TRAIN_SIZE = .7\n",
    "X_train, X_test, y_train, y_test = train_test_split(df_mod['text'], df_mod['target'], train_size = TRAIN_SIZE, random_state = 101)\n",
    "print(f'train size: {len(X_train)}')\n",
    "print(f'test size: {len(X_test)}')"
   ]
  },
  {
   "cell_type": "markdown",
   "metadata": {
    "colab_type": "text",
    "id": "g8FrFxpvP1He"
   },
   "source": [
    "# Config"
   ]
  },
  {
   "cell_type": "code",
   "execution_count": 0,
   "metadata": {
    "colab": {},
    "colab_type": "code",
    "id": "MA9FRSE-mG53"
   },
   "outputs": [],
   "source": [
    "vocab_size = 10000\n",
    "embedding_dim = 128\n",
    "max_length = 200\n",
    "trunc_type = 'post'\n",
    "padding_type = 'post'\n",
    "oov_tok = '<OOV>'\n",
    "num_epochs = 20"
   ]
  },
  {
   "cell_type": "markdown",
   "metadata": {
    "colab_type": "text",
    "id": "YJvydyOXmG5y"
   },
   "source": [
    "# Word -> Vector"
   ]
  },
  {
   "cell_type": "code",
   "execution_count": 0,
   "metadata": {
    "colab": {},
    "colab_type": "code",
    "id": "k2JAIBCSmG5z"
   },
   "outputs": [],
   "source": [
    "from tensorflow.keras.preprocessing.text import Tokenizer\n",
    "from tensorflow.keras.preprocessing.sequence import pad_sequences"
   ]
  },
  {
   "cell_type": "code",
   "execution_count": 0,
   "metadata": {
    "colab": {},
    "colab_type": "code",
    "id": "nIwmlDVSmG57"
   },
   "outputs": [],
   "source": [
    "tokenizer = Tokenizer(num_words=vocab_size, oov_token=oov_tok)"
   ]
  },
  {
   "cell_type": "code",
   "execution_count": 0,
   "metadata": {
    "colab": {},
    "colab_type": "code",
    "id": "J62iaosGmG5-"
   },
   "outputs": [],
   "source": [
    "tokenizer.fit_on_texts(list(X_train))"
   ]
  },
  {
   "cell_type": "code",
   "execution_count": 18,
   "metadata": {
    "colab": {
     "base_uri": "https://localhost:8080/",
     "height": 1000
    },
    "colab_type": "code",
    "id": "1d87YZmJmG6C",
    "outputId": "c170aadb-00f4-417b-aec3-d5b1f2b48bd9"
   },
   "outputs": [
    {
     "data": {
      "text/plain": [
       "{'<OOV>': 1,\n",
       " 'i': 2,\n",
       " 'to': 3,\n",
       " 'the': 4,\n",
       " 'a': 5,\n",
       " 'my': 6,\n",
       " 'and': 7,\n",
       " 'you': 8,\n",
       " 'is': 9,\n",
       " 'it': 10,\n",
       " 'for': 11,\n",
       " 'in': 12,\n",
       " 'of': 13,\n",
       " 'im': 14,\n",
       " 'on': 15,\n",
       " 'me': 16,\n",
       " 'so': 17,\n",
       " 'have': 18,\n",
       " 'that': 19,\n",
       " 'but': 20,\n",
       " 'just': 21,\n",
       " 'with': 22,\n",
       " 'at': 23,\n",
       " 'be': 24,\n",
       " 'its': 25,\n",
       " 'not': 26,\n",
       " 'was': 27,\n",
       " 'this': 28,\n",
       " 'now': 29,\n",
       " 'good': 30,\n",
       " 'up': 31,\n",
       " 'day': 32,\n",
       " 'all': 33,\n",
       " 'get': 34,\n",
       " 'out': 35,\n",
       " 'like': 36,\n",
       " 'are': 37,\n",
       " 'no': 38,\n",
       " 'go': 39,\n",
       " 'dont': 40,\n",
       " 'today': 41,\n",
       " 'going': 42,\n",
       " 'your': 43,\n",
       " 'do': 44,\n",
       " 'love': 45,\n",
       " 'work': 46,\n",
       " 'too': 47,\n",
       " 'cant': 48,\n",
       " 'got': 49,\n",
       " 'time': 50,\n",
       " 'back': 51,\n",
       " 'from': 52,\n",
       " 'lol': 53,\n",
       " 'u': 54,\n",
       " 'one': 55,\n",
       " 'what': 56,\n",
       " 'will': 57,\n",
       " 'we': 58,\n",
       " 'about': 59,\n",
       " 'know': 60,\n",
       " 'am': 61,\n",
       " 'really': 62,\n",
       " 'had': 63,\n",
       " 'see': 64,\n",
       " 'can': 65,\n",
       " 'some': 66,\n",
       " 'well': 67,\n",
       " 'if': 68,\n",
       " 'still': 69,\n",
       " 'new': 70,\n",
       " 'want': 71,\n",
       " 'night': 72,\n",
       " 'think': 73,\n",
       " 'how': 74,\n",
       " 'amp': 75,\n",
       " 'thanks': 76,\n",
       " 'home': 77,\n",
       " 'when': 78,\n",
       " 'as': 79,\n",
       " 'there': 80,\n",
       " 'oh': 81,\n",
       " '2': 82,\n",
       " 'miss': 83,\n",
       " 'more': 84,\n",
       " 'much': 85,\n",
       " 'off': 86,\n",
       " 'they': 87,\n",
       " 'here': 88,\n",
       " 'last': 89,\n",
       " 'need': 90,\n",
       " 'an': 91,\n",
       " 'then': 92,\n",
       " 'morning': 93,\n",
       " 'has': 94,\n",
       " 'been': 95,\n",
       " 'tomorrow': 96,\n",
       " 'great': 97,\n",
       " 'hope': 98,\n",
       " 'ill': 99,\n",
       " 'or': 100,\n",
       " 'thats': 101,\n",
       " 'twitter': 102,\n",
       " 'her': 103,\n",
       " 'feel': 104,\n",
       " 'again': 105,\n",
       " 'haha': 106,\n",
       " 'sad': 107,\n",
       " 'only': 108,\n",
       " 'he': 109,\n",
       " 'fun': 110,\n",
       " 'right': 111,\n",
       " 'sleep': 112,\n",
       " 'wish': 113,\n",
       " 'would': 114,\n",
       " 'didnt': 115,\n",
       " 'very': 116,\n",
       " 'bad': 117,\n",
       " 'happy': 118,\n",
       " 'why': 119,\n",
       " 'them': 120,\n",
       " 'sorry': 121,\n",
       " 'by': 122,\n",
       " 'did': 123,\n",
       " 'come': 124,\n",
       " 'tonight': 125,\n",
       " 'were': 126,\n",
       " 'make': 127,\n",
       " 'getting': 128,\n",
       " 'gonna': 129,\n",
       " 'way': 130,\n",
       " 'ive': 131,\n",
       " 'though': 132,\n",
       " 'better': 133,\n",
       " 'nice': 134,\n",
       " 'over': 135,\n",
       " 'watching': 136,\n",
       " 'should': 137,\n",
       " 'she': 138,\n",
       " 'could': 139,\n",
       " 'wait': 140,\n",
       " 'bed': 141,\n",
       " 'yeah': 142,\n",
       " 'people': 143,\n",
       " 'week': 144,\n",
       " 'hate': 145,\n",
       " 'school': 146,\n",
       " 'him': 147,\n",
       " 'youre': 148,\n",
       " 'even': 149,\n",
       " 'after': 150,\n",
       " 'hey': 151,\n",
       " 'days': 152,\n",
       " 'down': 153,\n",
       " 'awesome': 154,\n",
       " 'next': 155,\n",
       " 'weekend': 156,\n",
       " 'thank': 157,\n",
       " 'never': 158,\n",
       " 'yes': 159,\n",
       " 'soon': 160,\n",
       " 'take': 161,\n",
       " 'little': 162,\n",
       " 'first': 163,\n",
       " 'wanna': 164,\n",
       " 'long': 165,\n",
       " 'doing': 166,\n",
       " 'working': 167,\n",
       " 'who': 168,\n",
       " 'please': 169,\n",
       " 'having': 170,\n",
       " 'best': 171,\n",
       " 'being': 172,\n",
       " 'say': 173,\n",
       " '4': 174,\n",
       " 'watch': 175,\n",
       " 'show': 176,\n",
       " 'tired': 177,\n",
       " '3': 178,\n",
       " 'wont': 179,\n",
       " 'our': 180,\n",
       " 'his': 181,\n",
       " 'sick': 182,\n",
       " 'any': 183,\n",
       " 'done': 184,\n",
       " 'sure': 185,\n",
       " 'friends': 186,\n",
       " 'everyone': 187,\n",
       " 'ok': 188,\n",
       " 'always': 189,\n",
       " 'life': 190,\n",
       " 'thing': 191,\n",
       " 'another': 192,\n",
       " 'x': 193,\n",
       " 'than': 194,\n",
       " 'already': 195,\n",
       " 'feeling': 196,\n",
       " 'made': 197,\n",
       " 'guys': 198,\n",
       " 'us': 199,\n",
       " 'find': 200,\n",
       " 'cool': 201,\n",
       " 'something': 202,\n",
       " 'ready': 203,\n",
       " 'looking': 204,\n",
       " 'look': 205,\n",
       " 'yay': 206,\n",
       " 'yet': 207,\n",
       " 'phone': 208,\n",
       " 'doesnt': 209,\n",
       " 'because': 210,\n",
       " 'where': 211,\n",
       " 'ur': 212,\n",
       " 'hours': 213,\n",
       " 'went': 214,\n",
       " 'man': 215,\n",
       " 'before': 216,\n",
       " 'ever': 217,\n",
       " 'movie': 218,\n",
       " 'house': 219,\n",
       " 'trying': 220,\n",
       " 'pretty': 221,\n",
       " 'omg': 222,\n",
       " 'old': 223,\n",
       " 'away': 224,\n",
       " 'summer': 225,\n",
       " 'left': 226,\n",
       " 'big': 227,\n",
       " 'follow': 228,\n",
       " 'things': 229,\n",
       " 'finally': 230,\n",
       " 'damn': 231,\n",
       " 'lost': 232,\n",
       " 'maybe': 233,\n",
       " 'help': 234,\n",
       " 'early': 235,\n",
       " 'tweet': 236,\n",
       " 'let': 237,\n",
       " 'guess': 238,\n",
       " 'amazing': 239,\n",
       " 'same': 240,\n",
       " 'thought': 241,\n",
       " 'friend': 242,\n",
       " 'into': 243,\n",
       " 'bit': 244,\n",
       " 'someone': 245,\n",
       " 'wow': 246,\n",
       " 'keep': 247,\n",
       " 'havent': 248,\n",
       " 'lt3': 249,\n",
       " 'nothing': 250,\n",
       " 'year': 251,\n",
       " 'rain': 252,\n",
       " 'tell': 253,\n",
       " 'hot': 254,\n",
       " 'also': 255,\n",
       " 'live': 256,\n",
       " 'missed': 257,\n",
       " 'while': 258,\n",
       " 'girl': 259,\n",
       " 'looks': 260,\n",
       " 'start': 261,\n",
       " 'other': 262,\n",
       " 'birthday': 263,\n",
       " 'ya': 264,\n",
       " 'try': 265,\n",
       " 'coming': 266,\n",
       " 'n': 267,\n",
       " 'those': 268,\n",
       " 'two': 269,\n",
       " '1': 270,\n",
       " 'sucks': 271,\n",
       " 'hard': 272,\n",
       " 'makes': 273,\n",
       " 'glad': 274,\n",
       " 'bored': 275,\n",
       " 'actually': 276,\n",
       " 'baby': 277,\n",
       " 'does': 278,\n",
       " 'saw': 279,\n",
       " 'hear': 280,\n",
       " 'weather': 281,\n",
       " 'later': 282,\n",
       " 'excited': 283,\n",
       " 'sun': 284,\n",
       " 'party': 285,\n",
       " 'might': 286,\n",
       " 'id': 287,\n",
       " 'stuff': 288,\n",
       " 'song': 289,\n",
       " 'game': 290,\n",
       " 'waiting': 291,\n",
       " 'since': 292,\n",
       " 'play': 293,\n",
       " 'until': 294,\n",
       " 'around': 295,\n",
       " 'hes': 296,\n",
       " 'such': 297,\n",
       " 'ugh': 298,\n",
       " 'said': 299,\n",
       " 'isnt': 300,\n",
       " 'few': 301,\n",
       " 'gotta': 302,\n",
       " 'world': 303,\n",
       " 'hi': 304,\n",
       " 'sounds': 305,\n",
       " 'myself': 306,\n",
       " 'late': 307,\n",
       " 'lot': 308,\n",
       " 'many': 309,\n",
       " 'god': 310,\n",
       " 'read': 311,\n",
       " 'luck': 312,\n",
       " 'beautiful': 313,\n",
       " 'their': 314,\n",
       " 'friday': 315,\n",
       " 'found': 316,\n",
       " 'cold': 317,\n",
       " 'music': 318,\n",
       " 'making': 319,\n",
       " 'check': 320,\n",
       " '5': 321,\n",
       " 'must': 322,\n",
       " 'anything': 323,\n",
       " 'job': 324,\n",
       " 'head': 325,\n",
       " 'whats': 326,\n",
       " 'yesterday': 327,\n",
       " 'call': 328,\n",
       " 'car': 329,\n",
       " 'sunday': 330,\n",
       " 'give': 331,\n",
       " 'missing': 332,\n",
       " 'gone': 333,\n",
       " 'least': 334,\n",
       " 'woke': 335,\n",
       " 'may': 336,\n",
       " 'put': 337,\n",
       " 'most': 338,\n",
       " 'aww': 339,\n",
       " 'till': 340,\n",
       " 'stop': 341,\n",
       " 'talk': 342,\n",
       " 'listening': 343,\n",
       " 'food': 344,\n",
       " 'hair': 345,\n",
       " 'use': 346,\n",
       " 'eat': 347,\n",
       " 'monday': 348,\n",
       " 'poor': 349,\n",
       " 'mom': 350,\n",
       " 'times': 351,\n",
       " 'hurts': 352,\n",
       " 'iphone': 353,\n",
       " 'almost': 354,\n",
       " 'leave': 355,\n",
       " 'cute': 356,\n",
       " 'mean': 357,\n",
       " 'okay': 358,\n",
       " 'finished': 359,\n",
       " 'wanted': 360,\n",
       " 'forward': 361,\n",
       " 'dinner': 362,\n",
       " 'far': 363,\n",
       " 'end': 364,\n",
       " 'theres': 365,\n",
       " 'shes': 366,\n",
       " 'lunch': 367,\n",
       " 'hour': 368,\n",
       " 'enjoy': 369,\n",
       " 'believe': 370,\n",
       " 'welcome': 371,\n",
       " 'tho': 372,\n",
       " 'playing': 373,\n",
       " 'sweet': 374,\n",
       " 'totally': 375,\n",
       " 'followers': 376,\n",
       " 'funny': 377,\n",
       " 'free': 378,\n",
       " 'cause': 379,\n",
       " 'anyone': 380,\n",
       " 'without': 381,\n",
       " 'these': 382,\n",
       " 'shit': 383,\n",
       " 'family': 384,\n",
       " 'which': 385,\n",
       " 'everything': 386,\n",
       " 'r': 387,\n",
       " 'through': 388,\n",
       " 'wasnt': 389,\n",
       " 'outside': 390,\n",
       " 'video': 391,\n",
       " 'real': 392,\n",
       " 'stupid': 393,\n",
       " 'couldnt': 394,\n",
       " 'thinking': 395,\n",
       " 'enough': 396,\n",
       " 'hahaha': 397,\n",
       " 'o': 398,\n",
       " 'buy': 399,\n",
       " 'wrong': 400,\n",
       " 'mine': 401,\n",
       " 'wants': 402,\n",
       " 'whole': 403,\n",
       " 'every': 404,\n",
       " 'xx': 405,\n",
       " 'probably': 406,\n",
       " 'coffee': 407,\n",
       " 'weeks': 408,\n",
       " 'w': 409,\n",
       " 'money': 410,\n",
       " 'anymore': 411,\n",
       " 'place': 412,\n",
       " 'room': 413,\n",
       " 'eating': 414,\n",
       " 'win': 415,\n",
       " 'busy': 416,\n",
       " 'once': 417,\n",
       " 'came': 418,\n",
       " '10': 419,\n",
       " 'tv': 420,\n",
       " 'seen': 421,\n",
       " 'tweets': 422,\n",
       " 'following': 423,\n",
       " 'beach': 424,\n",
       " 'lovely': 425,\n",
       " 'hell': 426,\n",
       " 'says': 427,\n",
       " 'ha': 428,\n",
       " 'd': 429,\n",
       " 'sooo': 430,\n",
       " 'stay': 431,\n",
       " 'years': 432,\n",
       " 'saturday': 433,\n",
       " 'class': 434,\n",
       " 'lets': 435,\n",
       " 'guy': 436,\n",
       " 'kinda': 437,\n",
       " 'crazy': 438,\n",
       " 'pic': 439,\n",
       " 'b': 440,\n",
       " 'theyre': 441,\n",
       " 'super': 442,\n",
       " 'headache': 443,\n",
       " 'kids': 444,\n",
       " 'face': 445,\n",
       " 'both': 446,\n",
       " 'leaving': 447,\n",
       " 'book': 448,\n",
       " 'used': 449,\n",
       " 'took': 450,\n",
       " 'taking': 451,\n",
       " 'girls': 452,\n",
       " 'true': 453,\n",
       " 'dad': 454,\n",
       " 'meet': 455,\n",
       " 'feels': 456,\n",
       " 'hello': 457,\n",
       " 's': 458,\n",
       " 'news': 459,\n",
       " 'hopefully': 460,\n",
       " 'half': 461,\n",
       " 'lots': 462,\n",
       " 'shopping': 463,\n",
       " 'rest': 464,\n",
       " 'either': 465,\n",
       " 'soo': 466,\n",
       " 'sitting': 467,\n",
       " 'able': 468,\n",
       " 'exam': 469,\n",
       " 'reading': 470,\n",
       " 'forgot': 471,\n",
       " 'else': 472,\n",
       " 'post': 473,\n",
       " 'send': 474,\n",
       " '6': 475,\n",
       " 'needs': 476,\n",
       " 'ah': 477,\n",
       " 'office': 478,\n",
       " 'idea': 479,\n",
       " 'course': 480,\n",
       " 'own': 481,\n",
       " 'stuck': 482,\n",
       " 'name': 483,\n",
       " 'computer': 484,\n",
       " 'ago': 485,\n",
       " 'btw': 486,\n",
       " 'kind': 487,\n",
       " 'awww': 488,\n",
       " 'seems': 489,\n",
       " 'hurt': 490,\n",
       " 'heard': 491,\n",
       " 'raining': 492,\n",
       " 'full': 493,\n",
       " 'run': 494,\n",
       " 'dog': 495,\n",
       " 'tried': 496,\n",
       " 'cuz': 497,\n",
       " 'blog': 498,\n",
       " 'goodnight': 499,\n",
       " 'trip': 500,\n",
       " 'boo': 501,\n",
       " 'heart': 502,\n",
       " 'alone': 503,\n",
       " 'mind': 504,\n",
       " 'talking': 505,\n",
       " 'hit': 506,\n",
       " 'mileycyrus': 507,\n",
       " 'seeing': 508,\n",
       " 'pain': 509,\n",
       " 'remember': 510,\n",
       " 'started': 511,\n",
       " 'watched': 512,\n",
       " 'part': 513,\n",
       " 'using': 514,\n",
       " 'boy': 515,\n",
       " 'fuck': 516,\n",
       " 'cry': 517,\n",
       " 'awake': 518,\n",
       " 'break': 519,\n",
       " 'minutes': 520,\n",
       " 'la': 521,\n",
       " 'change': 522,\n",
       " 'til': 523,\n",
       " 'told': 524,\n",
       " 'quite': 525,\n",
       " 'internet': 526,\n",
       " 'goes': 527,\n",
       " 'care': 528,\n",
       " 'online': 529,\n",
       " 'open': 530,\n",
       " 'facebook': 531,\n",
       " 'hehe': 532,\n",
       " 'pay': 533,\n",
       " 'season': 534,\n",
       " 'wake': 535,\n",
       " 'bought': 536,\n",
       " 'update': 537,\n",
       " 'add': 538,\n",
       " 'loved': 539,\n",
       " 'person': 540,\n",
       " 'starting': 541,\n",
       " 'breakfast': 542,\n",
       " 'gets': 543,\n",
       " 'fine': 544,\n",
       " 'picture': 545,\n",
       " 'seriously': 546,\n",
       " 'sunny': 547,\n",
       " '30': 548,\n",
       " 'favorite': 549,\n",
       " 'shower': 550,\n",
       " 'called': 551,\n",
       " 'hungry': 552,\n",
       " 'dude': 553,\n",
       " 'anyway': 554,\n",
       " 'pics': 555,\n",
       " 'june': 556,\n",
       " 'youll': 557,\n",
       " 'aw': 558,\n",
       " 'boring': 559,\n",
       " 'instead': 560,\n",
       " 'link': 561,\n",
       " 'sleeping': 562,\n",
       " 'broke': 563,\n",
       " 'lmao': 564,\n",
       " 'heading': 565,\n",
       " 'site': 566,\n",
       " 'ass': 567,\n",
       " 'drive': 568,\n",
       " 'concert': 569,\n",
       " 'jealous': 570,\n",
       " 'reply': 571,\n",
       " '8': 572,\n",
       " 'wonderful': 573,\n",
       " 'fan': 574,\n",
       " 'xd': 575,\n",
       " 'afternoon': 576,\n",
       " 'walk': 577,\n",
       " 'asleep': 578,\n",
       " 'enjoying': 579,\n",
       " 'lucky': 580,\n",
       " 'red': 581,\n",
       " 'month': 582,\n",
       " 'ice': 583,\n",
       " 'running': 584,\n",
       " 'text': 585,\n",
       " 'bye': 586,\n",
       " 'dead': 587,\n",
       " '100': 588,\n",
       " 'p': 589,\n",
       " 'study': 590,\n",
       " 'hoping': 591,\n",
       " 'crap': 592,\n",
       " '7': 593,\n",
       " 'sister': 594,\n",
       " 'soooo': 595,\n",
       " 'bout': 596,\n",
       " 'mothers': 597,\n",
       " 'exams': 598,\n",
       " 'ones': 599,\n",
       " 'mad': 600,\n",
       " 'tommcfly': 601,\n",
       " 'finish': 602,\n",
       " 'definitely': 603,\n",
       " 'yea': 604,\n",
       " 'email': 605,\n",
       " 'rock': 606,\n",
       " 'train': 607,\n",
       " 'church': 608,\n",
       " 'won': 609,\n",
       " 'ask': 610,\n",
       " 'means': 611,\n",
       " 'visit': 612,\n",
       " 'problem': 613,\n",
       " 'set': 614,\n",
       " 'bring': 615,\n",
       " 'died': 616,\n",
       " 'high': 617,\n",
       " 'congrats': 618,\n",
       " 'write': 619,\n",
       " 'city': 620,\n",
       " 'listen': 621,\n",
       " 'months': 622,\n",
       " 'ddlovato': 623,\n",
       " 'together': 624,\n",
       " 'sore': 625,\n",
       " 'loves': 626,\n",
       " 'album': 627,\n",
       " 'town': 628,\n",
       " 'wouldnt': 629,\n",
       " 'boys': 630,\n",
       " 'fail': 631,\n",
       " 'c': 632,\n",
       " 'comes': 633,\n",
       " 'seem': 634,\n",
       " 'move': 635,\n",
       " 'homework': 636,\n",
       " 'sometimes': 637,\n",
       " 'happen': 638,\n",
       " 'dear': 639,\n",
       " 'youtube': 640,\n",
       " 'laptop': 641,\n",
       " 'writing': 642,\n",
       " 'goin': 643,\n",
       " 'drink': 644,\n",
       " 'suck': 645,\n",
       " 'movies': 646,\n",
       " 'final': 647,\n",
       " 'bday': 648,\n",
       " 'water': 649,\n",
       " 'tea': 650,\n",
       " 'songs': 651,\n",
       " 'eyes': 652,\n",
       " 'works': 653,\n",
       " 'happened': 654,\n",
       " 'fucking': 655,\n",
       " 'sigh': 656,\n",
       " 'sound': 657,\n",
       " 'agree': 658,\n",
       " 'ipod': 659,\n",
       " 'fall': 660,\n",
       " 'cut': 661,\n",
       " 'brother': 662,\n",
       " 'reason': 663,\n",
       " 'lil': 664,\n",
       " 'weird': 665,\n",
       " 'catch': 666,\n",
       " 'hang': 667,\n",
       " 'gt': 668,\n",
       " 'english': 669,\n",
       " 'top': 670,\n",
       " 'arent': 671,\n",
       " 'saying': 672,\n",
       " 'cat': 673,\n",
       " 'cream': 674,\n",
       " '12': 675,\n",
       " 'less': 676,\n",
       " 'clean': 677,\n",
       " 'loving': 678,\n",
       " 'side': 679,\n",
       " 'tour': 680,\n",
       " 'couple': 681,\n",
       " 'driving': 682,\n",
       " 'perfect': 683,\n",
       " 'cleaning': 684,\n",
       " 'studying': 685,\n",
       " 'word': 686,\n",
       " 'evening': 687,\n",
       " 'gym': 688,\n",
       " 'yall': 689,\n",
       " 'dream': 690,\n",
       " 'supposed': 691,\n",
       " 'turn': 692,\n",
       " '20': 693,\n",
       " 'story': 694,\n",
       " 'nap': 695,\n",
       " 'worst': 696,\n",
       " 'da': 697,\n",
       " 'nite': 698,\n",
       " 'fb': 699,\n",
       " 'dance': 700,\n",
       " 'test': 701,\n",
       " 'via': 702,\n",
       " 'ppl': 703,\n",
       " 'awards': 704,\n",
       " 'wishing': 705,\n",
       " 'plan': 706,\n",
       " 'em': 707,\n",
       " 'black': 708,\n",
       " 'ate': 709,\n",
       " 'tickets': 710,\n",
       " 'pictures': 711,\n",
       " 'interesting': 712,\n",
       " 'sent': 713,\n",
       " 'pool': 714,\n",
       " 'meeting': 715,\n",
       " 'green': 716,\n",
       " 'account': 717,\n",
       " 'close': 718,\n",
       " 'moment': 719,\n",
       " '1st': 720,\n",
       " 'mood': 721,\n",
       " 'worth': 722,\n",
       " 'hmm': 723,\n",
       " 'sunshine': 724,\n",
       " 'smile': 725,\n",
       " 'horrible': 726,\n",
       " 'second': 727,\n",
       " 'chocolate': 728,\n",
       " 'wedding': 729,\n",
       " 'ahh': 730,\n",
       " 'aint': 731,\n",
       " 'ride': 732,\n",
       " 'words': 733,\n",
       " 'fast': 734,\n",
       " 'followfriday': 735,\n",
       " 'store': 736,\n",
       " 'unfortunately': 737,\n",
       " 'page': 738,\n",
       " 'scared': 739,\n",
       " 'understand': 740,\n",
       " 'knew': 741,\n",
       " 'broken': 742,\n",
       " 'parents': 743,\n",
       " 'mr': 744,\n",
       " 'london': 745,\n",
       " 'uk': 746,\n",
       " 'fell': 747,\n",
       " 'past': 748,\n",
       " 'pick': 749,\n",
       " 'throat': 750,\n",
       " 'moon': 751,\n",
       " 'lady': 752,\n",
       " 'xxx': 753,\n",
       " 'team': 754,\n",
       " 'forget': 755,\n",
       " 'slow': 756,\n",
       " 'air': 757,\n",
       " 'upset': 758,\n",
       " 'park': 759,\n",
       " 'point': 760,\n",
       " 'apparently': 761,\n",
       " 'photo': 762,\n",
       " 'gave': 763,\n",
       " 'mac': 764,\n",
       " 'three': 765,\n",
       " 'special': 766,\n",
       " 'sat': 767,\n",
       " 'list': 768,\n",
       " 'yep': 769,\n",
       " 'tuesday': 770,\n",
       " 'moving': 771,\n",
       " 'worse': 772,\n",
       " 'wtf': 773,\n",
       " 'star': 774,\n",
       " 'mum': 775,\n",
       " 'dreams': 776,\n",
       " 'holiday': 777,\n",
       " 'due': 778,\n",
       " 'spent': 779,\n",
       " 'college': 780,\n",
       " 'hugs': 781,\n",
       " 'rather': 782,\n",
       " 'tweeting': 783,\n",
       " 'updates': 784,\n",
       " 'shame': 785,\n",
       " 'worry': 786,\n",
       " 'sleepy': 787,\n",
       " 'short': 788,\n",
       " 'longer': 789,\n",
       " 'wonder': 790,\n",
       " 'thx': 791,\n",
       " 'cake': 792,\n",
       " 'mtv': 793,\n",
       " 'chance': 794,\n",
       " 'miley': 795,\n",
       " 'y': 796,\n",
       " 'vote': 797,\n",
       " 'forever': 798,\n",
       " 'earlier': 799,\n",
       " 'ps': 800,\n",
       " 'bet': 801,\n",
       " 'drinking': 802,\n",
       " 'jonas': 803,\n",
       " 'lazy': 804,\n",
       " 'wondering': 805,\n",
       " 'flight': 806,\n",
       " 'spend': 807,\n",
       " 'under': 808,\n",
       " 'date': 809,\n",
       " 'huge': 810,\n",
       " 'hows': 811,\n",
       " 'flu': 812,\n",
       " 'cannot': 813,\n",
       " '9': 814,\n",
       " 'easy': 815,\n",
       " 'website': 816,\n",
       " 'plans': 817,\n",
       " 'different': 818,\n",
       " 'inside': 819,\n",
       " 'voice': 820,\n",
       " 'white': 821,\n",
       " 'hand': 822,\n",
       " 'plus': 823,\n",
       " 'message': 824,\n",
       " 'david': 825,\n",
       " 'join': 826,\n",
       " 'm': 827,\n",
       " 'slept': 828,\n",
       " 'support': 829,\n",
       " 'body': 830,\n",
       " 'liked': 831,\n",
       " 'thinks': 832,\n",
       " 'fair': 833,\n",
       " 'answer': 834,\n",
       " 'band': 835,\n",
       " 'camera': 836,\n",
       " 'wear': 837,\n",
       " 'number': 838,\n",
       " 'sadly': 839,\n",
       " 'nope': 840,\n",
       " 'youve': 841,\n",
       " 'pizza': 842,\n",
       " '15': 843,\n",
       " 'shows': 844,\n",
       " 'sims': 845,\n",
       " 'games': 846,\n",
       " 't': 847,\n",
       " 'meant': 848,\n",
       " 'tom': 849,\n",
       " 'die': 850,\n",
       " 'photos': 851,\n",
       " 'lame': 852,\n",
       " 'stomach': 853,\n",
       " 'warm': 854,\n",
       " 'graduation': 855,\n",
       " 'fans': 856,\n",
       " 'idk': 857,\n",
       " 'met': 858,\n",
       " 'hanging': 859,\n",
       " 'google': 860,\n",
       " 'decided': 861,\n",
       " 'beat': 862,\n",
       " 'learn': 863,\n",
       " 'bc': 864,\n",
       " 'officially': 865,\n",
       " 'road': 866,\n",
       " 'keeps': 867,\n",
       " 'brothers': 868,\n",
       " 'bus': 869,\n",
       " 'nights': 870,\n",
       " 'save': 871,\n",
       " 'luv': 872,\n",
       " 'thursday': 873,\n",
       " 'beer': 874,\n",
       " 'ahhh': 875,\n",
       " 'myspace': 876,\n",
       " 'blue': 877,\n",
       " 'rip': 878,\n",
       " 'line': 879,\n",
       " 'airport': 880,\n",
       " 'safe': 881,\n",
       " 'figure': 882,\n",
       " 'sold': 883,\n",
       " 'shoes': 884,\n",
       " 'small': 885,\n",
       " 'crying': 886,\n",
       " 'shall': 887,\n",
       " 'looked': 888,\n",
       " 'vacation': 889,\n",
       " 'project': 890,\n",
       " 'during': 891,\n",
       " 'each': 892,\n",
       " 'proud': 893,\n",
       " 'chicken': 894,\n",
       " 'especially': 895,\n",
       " '2nd': 896,\n",
       " 'played': 897,\n",
       " 'killing': 898,\n",
       " 'rainy': 899,\n",
       " 'fix': 900,\n",
       " 'wit': 901,\n",
       " 'july': 902,\n",
       " 'cup': 903,\n",
       " 'business': 904,\n",
       " 'l': 905,\n",
       " 'books': 906,\n",
       " 'jonasbrothers': 907,\n",
       " 'twilight': 908,\n",
       " 'garden': 909,\n",
       " 'itll': 910,\n",
       " 'kid': 911,\n",
       " 'yourself': 912,\n",
       " 'absolutely': 913,\n",
       " 'yummy': 914,\n",
       " 'bbq': 915,\n",
       " 'starts': 916,\n",
       " 'xoxo': 917,\n",
       " 'club': 918,\n",
       " 'shop': 919,\n",
       " 'needed': 920,\n",
       " 'taken': 921,\n",
       " 'son': 922,\n",
       " 'card': 923,\n",
       " 'worked': 924,\n",
       " 'french': 925,\n",
       " 'apple': 926,\n",
       " 'episode': 927,\n",
       " 'gorgeous': 928,\n",
       " 'chat': 929,\n",
       " 'except': 930,\n",
       " 'boyfriend': 931,\n",
       " 'annoying': 932,\n",
       " 'wine': 933,\n",
       " 'service': 934,\n",
       " 'tummy': 935,\n",
       " 'finals': 936,\n",
       " 'exciting': 937,\n",
       " 'question': 938,\n",
       " 'posted': 939,\n",
       " 'goodbye': 940,\n",
       " 'power': 941,\n",
       " 'cos': 942,\n",
       " 'eye': 943,\n",
       " 'walking': 944,\n",
       " 'order': 945,\n",
       " '2day': 946,\n",
       " 'kill': 947,\n",
       " 'yup': 948,\n",
       " 'exactly': 949,\n",
       " 'lonely': 950,\n",
       " 'dress': 951,\n",
       " 'living': 952,\n",
       " 'front': 953,\n",
       " 'k': 954,\n",
       " 'videos': 955,\n",
       " 'wishes': 956,\n",
       " 'turned': 957,\n",
       " 'alright': 958,\n",
       " 'paper': 959,\n",
       " 'pink': 960,\n",
       " 'giving': 961,\n",
       " 'radio': 962,\n",
       " 'case': 963,\n",
       " 'cd': 964,\n",
       " 'laugh': 965,\n",
       " 'felt': 966,\n",
       " 'drunk': 967,\n",
       " 'ouch': 968,\n",
       " 'clothes': 969,\n",
       " 'everybody': 970,\n",
       " 'hug': 971,\n",
       " 'hospital': 972,\n",
       " 'knows': 973,\n",
       " 'fantastic': 974,\n",
       " 'touch': 975,\n",
       " 'jus': 976,\n",
       " 'share': 977,\n",
       " 'hates': 978,\n",
       " 'fact': 979,\n",
       " 'round': 980,\n",
       " 'hold': 981,\n",
       " 'woo': 982,\n",
       " 're': 983,\n",
       " 'terrible': 984,\n",
       " 'packing': 985,\n",
       " 'lose': 986,\n",
       " 'pass': 987,\n",
       " 'bro': 988,\n",
       " 'asked': 989,\n",
       " 'sign': 990,\n",
       " 'bike': 991,\n",
       " 'dm': 992,\n",
       " 'wife': 993,\n",
       " 'film': 994,\n",
       " 'moms': 995,\n",
       " 'sis': 996,\n",
       " 'bloody': 997,\n",
       " 'near': 998,\n",
       " 'although': 999,\n",
       " 'realized': 1000,\n",
       " ...}"
      ]
     },
     "execution_count": 18,
     "metadata": {
      "tags": []
     },
     "output_type": "execute_result"
    }
   ],
   "source": [
    "word_index = tokenizer.word_index\n",
    "word_index"
   ]
  },
  {
   "cell_type": "code",
   "execution_count": 0,
   "metadata": {
    "colab": {},
    "colab_type": "code",
    "id": "YdadWK3nmG6G"
   },
   "outputs": [],
   "source": [
    "training_sequences = tokenizer.texts_to_sequences((X_train))\n",
    "testing_sequences = tokenizer.texts_to_sequences((X_test))"
   ]
  },
  {
   "cell_type": "code",
   "execution_count": 0,
   "metadata": {
    "colab": {},
    "colab_type": "code",
    "id": "I6XLqJmPmG6J"
   },
   "outputs": [],
   "source": [
    "training_padded = pad_sequences(training_sequences, maxlen=max_length, \n",
    "                               padding = padding_type, truncating=trunc_type)\n",
    "\n",
    "testing_padded = pad_sequences(testing_sequences, maxlen=max_length, padding = padding_type, truncating=trunc_type)"
   ]
  },
  {
   "cell_type": "markdown",
   "metadata": {
    "colab_type": "text",
    "id": "DlzYy0nImG6Z"
   },
   "source": [
    "# Modeling (Single LSTM)"
   ]
  },
  {
   "cell_type": "code",
   "execution_count": 21,
   "metadata": {
    "colab": {
     "base_uri": "https://localhost:8080/",
     "height": 34
    },
    "colab_type": "code",
    "id": "ZXKXakd5mG6N",
    "outputId": "52e05021-fb5c-469d-ff38-92aba5c0778f"
   },
   "outputs": [
    {
     "name": "stderr",
     "output_type": "stream",
     "text": [
      "Using TensorFlow backend.\n"
     ]
    }
   ],
   "source": [
    "import tensorflow as tf\n",
    "import keras.callbacks"
   ]
  },
  {
   "cell_type": "code",
   "execution_count": 22,
   "metadata": {
    "colab": {
     "base_uri": "https://localhost:8080/",
     "height": 286
    },
    "colab_type": "code",
    "id": "AS-gCTCAmG6Z",
    "outputId": "707ccf56-c76c-4746-8952-ebc1041bdae2"
   },
   "outputs": [
    {
     "name": "stdout",
     "output_type": "stream",
     "text": [
      "Model: \"sequential\"\n",
      "_________________________________________________________________\n",
      "Layer (type)                 Output Shape              Param #   \n",
      "=================================================================\n",
      "embedding (Embedding)        (None, 200, 128)          1280000   \n",
      "_________________________________________________________________\n",
      "bidirectional (Bidirectional (None, 256)               263168    \n",
      "_________________________________________________________________\n",
      "dense (Dense)                (None, 256)               65792     \n",
      "_________________________________________________________________\n",
      "dense_1 (Dense)              (None, 1)                 257       \n",
      "=================================================================\n",
      "Total params: 1,609,217\n",
      "Trainable params: 1,609,217\n",
      "Non-trainable params: 0\n",
      "_________________________________________________________________\n"
     ]
    }
   ],
   "source": [
    "model1 = tf.keras.Sequential([\n",
    "    tf.keras.layers.Embedding(vocab_size, embedding_dim, input_length=max_length),\n",
    "    tf.keras.layers.Bidirectional(tf.keras.layers.LSTM(128, dropout=.2)),\n",
    "    tf.keras.layers.Dense(256, activation='relu'),\n",
    "    tf.keras.layers.Dense(1, activation='sigmoid')\n",
    "])\n",
    "\n",
    "model1.compile(loss='binary_crossentropy',optimizer='adam',metrics=['acc'])\n",
    "model1.summary()"
   ]
  },
  {
   "cell_type": "code",
   "execution_count": 23,
   "metadata": {
    "colab": {
     "base_uri": "https://localhost:8080/",
     "height": 84
    },
    "colab_type": "code",
    "id": "JxBM8kjuO3MY",
    "outputId": "ccddfb07-7a97-4993-aac3-043b1324b950"
   },
   "outputs": [
    {
     "name": "stdout",
     "output_type": "stream",
     "text": [
      "(210000, 200)\n",
      "(210000,)\n",
      "(90000, 200)\n",
      "(90000,)\n"
     ]
    }
   ],
   "source": [
    "print(np.asarray(training_padded).shape)\n",
    "print(np.asarray(y_train).shape)\n",
    "print(np.asarray(testing_padded).shape)\n",
    "print(np.asarray(y_test).shape)"
   ]
  },
  {
   "cell_type": "code",
   "execution_count": 0,
   "metadata": {
    "colab": {},
    "colab_type": "code",
    "id": "Lah2Ub6FX-89"
   },
   "outputs": [],
   "source": [
    "checkpoint = tf.keras.callbacks.ModelCheckpoint('model-{epoch:03d}-{acc:03f}-{val_acc:03f}.h5', verbose=1, monitor='val_acc',save_best_only=True, mode='auto') "
   ]
  },
  {
   "cell_type": "code",
   "execution_count": 25,
   "metadata": {
    "colab": {
     "base_uri": "https://localhost:8080/",
     "height": 1000
    },
    "colab_type": "code",
    "id": "oPJJsQEKdZtc",
    "outputId": "3913768c-25d7-4cce-ad35-20741d6dec3e"
   },
   "outputs": [
    {
     "name": "stdout",
     "output_type": "stream",
     "text": [
      "Epoch 1/20\n",
      "4594/4594 [==============================] - ETA: 0s - loss: 0.4705 - acc: 0.7769\n",
      "Epoch 00001: val_acc improved from -inf to 0.79489, saving model to model-001-0.776898-0.794889.h5\n",
      "4594/4594 [==============================] - 194s 42ms/step - loss: 0.4705 - acc: 0.7769 - val_loss: 0.4373 - val_acc: 0.7949\n",
      "Epoch 2/20\n",
      "4594/4594 [==============================] - ETA: 0s - loss: 0.4040 - acc: 0.8144\n",
      "Epoch 00002: val_acc improved from 0.79489 to 0.80203, saving model to model-002-0.814442-0.802032.h5\n",
      "4594/4594 [==============================] - 193s 42ms/step - loss: 0.4040 - acc: 0.8144 - val_loss: 0.4298 - val_acc: 0.8020\n",
      "Epoch 3/20\n",
      "4594/4594 [==============================] - ETA: 0s - loss: 0.3671 - acc: 0.8340\n",
      "Epoch 00003: val_acc did not improve from 0.80203\n",
      "4594/4594 [==============================] - 194s 42ms/step - loss: 0.3671 - acc: 0.8340 - val_loss: 0.4381 - val_acc: 0.7970\n",
      "Epoch 4/20\n",
      "4594/4594 [==============================] - ETA: 0s - loss: 0.3329 - acc: 0.8521\n",
      "Epoch 00004: val_acc did not improve from 0.80203\n",
      "4594/4594 [==============================] - 191s 42ms/step - loss: 0.3329 - acc: 0.8521 - val_loss: 0.4704 - val_acc: 0.7917\n",
      "Epoch 5/20\n",
      "4593/4594 [============================>.] - ETA: 0s - loss: 0.2973 - acc: 0.8692\n",
      "Epoch 00005: val_acc did not improve from 0.80203\n",
      "4594/4594 [==============================] - 191s 42ms/step - loss: 0.2973 - acc: 0.8692 - val_loss: 0.4916 - val_acc: 0.7893\n",
      "Epoch 6/20\n",
      "4594/4594 [==============================] - ETA: 0s - loss: 0.2630 - acc: 0.8852\n",
      "Epoch 00006: val_acc did not improve from 0.80203\n",
      "4594/4594 [==============================] - 191s 42ms/step - loss: 0.2630 - acc: 0.8852 - val_loss: 0.5506 - val_acc: 0.7858\n",
      "Epoch 7/20\n",
      "4594/4594 [==============================] - ETA: 0s - loss: 0.2314 - acc: 0.9002\n",
      "Epoch 00007: val_acc did not improve from 0.80203\n",
      "4594/4594 [==============================] - 191s 42ms/step - loss: 0.2314 - acc: 0.9002 - val_loss: 0.5890 - val_acc: 0.7813\n",
      "Epoch 8/20\n",
      "4594/4594 [==============================] - ETA: 0s - loss: 0.2012 - acc: 0.9139\n",
      "Epoch 00008: val_acc did not improve from 0.80203\n",
      "4594/4594 [==============================] - 191s 42ms/step - loss: 0.2012 - acc: 0.9139 - val_loss: 0.6843 - val_acc: 0.7784\n",
      "Epoch 9/20\n",
      "4594/4594 [==============================] - ETA: 0s - loss: 0.1782 - acc: 0.9245\n",
      "Epoch 00009: val_acc did not improve from 0.80203\n",
      "4594/4594 [==============================] - 190s 41ms/step - loss: 0.1782 - acc: 0.9245 - val_loss: 0.7566 - val_acc: 0.7733\n",
      "Epoch 10/20\n",
      "4593/4594 [============================>.] - ETA: 0s - loss: 0.1571 - acc: 0.9330\n",
      "Epoch 00010: val_acc did not improve from 0.80203\n",
      "4594/4594 [==============================] - 188s 41ms/step - loss: 0.1571 - acc: 0.9330 - val_loss: 0.8496 - val_acc: 0.7729\n",
      "Epoch 11/20\n",
      "4593/4594 [============================>.] - ETA: 0s - loss: 0.1410 - acc: 0.9409\n",
      "Epoch 00011: val_acc did not improve from 0.80203\n",
      "4594/4594 [==============================] - 187s 41ms/step - loss: 0.1410 - acc: 0.9409 - val_loss: 0.8407 - val_acc: 0.7692\n",
      "Epoch 12/20\n",
      "4594/4594 [==============================] - ETA: 0s - loss: 0.1263 - acc: 0.9473\n",
      "Epoch 00012: val_acc did not improve from 0.80203\n",
      "4594/4594 [==============================] - 188s 41ms/step - loss: 0.1263 - acc: 0.9473 - val_loss: 0.9483 - val_acc: 0.7690\n",
      "Epoch 13/20\n",
      "4594/4594 [==============================] - ETA: 0s - loss: 0.1146 - acc: 0.9521\n",
      "Epoch 00013: val_acc did not improve from 0.80203\n",
      "4594/4594 [==============================] - 189s 41ms/step - loss: 0.1146 - acc: 0.9521 - val_loss: 1.0739 - val_acc: 0.7701\n",
      "Epoch 14/20\n",
      "4593/4594 [============================>.] - ETA: 0s - loss: 0.1055 - acc: 0.9568\n",
      "Epoch 00014: val_acc did not improve from 0.80203\n",
      "4594/4594 [==============================] - 192s 42ms/step - loss: 0.1055 - acc: 0.9568 - val_loss: 1.0712 - val_acc: 0.7646\n",
      "Epoch 15/20\n",
      "4593/4594 [============================>.] - ETA: 0s - loss: 0.0981 - acc: 0.9600\n",
      "Epoch 00015: val_acc did not improve from 0.80203\n",
      "4594/4594 [==============================] - 193s 42ms/step - loss: 0.0981 - acc: 0.9600 - val_loss: 1.1196 - val_acc: 0.7616\n",
      "Epoch 16/20\n",
      "4594/4594 [==============================] - ETA: 0s - loss: 0.0901 - acc: 0.9629\n",
      "Epoch 00016: val_acc did not improve from 0.80203\n",
      "4594/4594 [==============================] - 194s 42ms/step - loss: 0.0901 - acc: 0.9629 - val_loss: 1.1137 - val_acc: 0.7620\n",
      "Epoch 17/20\n",
      "4594/4594 [==============================] - ETA: 0s - loss: 0.0839 - acc: 0.9659\n",
      "Epoch 00017: val_acc did not improve from 0.80203\n",
      "4594/4594 [==============================] - 194s 42ms/step - loss: 0.0839 - acc: 0.9659 - val_loss: 1.2019 - val_acc: 0.7662\n",
      "Epoch 18/20\n",
      "4594/4594 [==============================] - ETA: 0s - loss: 0.0800 - acc: 0.9674\n",
      "Epoch 00018: val_acc did not improve from 0.80203\n",
      "4594/4594 [==============================] - 201s 44ms/step - loss: 0.0800 - acc: 0.9674 - val_loss: 1.2006 - val_acc: 0.7593\n",
      "Epoch 19/20\n",
      "4594/4594 [==============================] - ETA: 0s - loss: 0.0769 - acc: 0.9686\n",
      "Epoch 00019: val_acc did not improve from 0.80203\n",
      "4594/4594 [==============================] - 199s 43ms/step - loss: 0.0769 - acc: 0.9686 - val_loss: 1.1796 - val_acc: 0.7620\n",
      "Epoch 20/20\n",
      "4593/4594 [============================>.] - ETA: 0s - loss: 0.0737 - acc: 0.9701\n",
      "Epoch 00020: val_acc did not improve from 0.80203\n",
      "4594/4594 [==============================] - 199s 43ms/step - loss: 0.0737 - acc: 0.9701 - val_loss: 1.2030 - val_acc: 0.7623\n"
     ]
    }
   ],
   "source": [
    "history1 = model1.fit(np.asarray(training_padded), np.asarray(y_train), \n",
    "                    epochs=num_epochs, \n",
    "                    validation_split=.3, \n",
    "                    verbose=1, \n",
    "                    callbacks=[checkpoint])"
   ]
  },
  {
   "cell_type": "code",
   "execution_count": 26,
   "metadata": {
    "colab": {
     "base_uri": "https://localhost:8080/",
     "height": 541
    },
    "colab_type": "code",
    "id": "aR2MHSUBmG6c",
    "outputId": "ee786aaf-74b7-498d-cf31-1c9291161c21"
   },
   "outputs": [
    {
     "data": {
      "image/png": "[encoded data removed]",
      "text/plain": [
       "<Figure size 432x288 with 1 Axes>"
      ]
     },
     "metadata": {
      "needs_background": "light",
      "tags": []
     },
     "output_type": "display_data"
    },
    {
     "data": {
      "image/png": "[encoded data removed]",
      "text/plain": [
       "<Figure size 432x288 with 1 Axes>"
      ]
     },
     "metadata": {
      "needs_background": "light",
      "tags": []
     },
     "output_type": "display_data"
    }
   ],
   "source": [
    "import matplotlib.pyplot as plt\n",
    "\n",
    "\n",
    "def plot_graphs(history, string):\n",
    "  plt.plot(history1.history[string])\n",
    "  plt.plot(history1.history['val_'+string])\n",
    "  plt.xlabel(\"Epochs\")\n",
    "  plt.ylabel(string)\n",
    "  plt.legend([string, 'val_'+string])\n",
    "  plt.show()\n",
    "  \n",
    "plot_graphs(history1, \"acc\")\n",
    "plot_graphs(history1, \"loss\")"
   ]
  },
  {
   "cell_type": "markdown",
   "metadata": {
    "colab_type": "text",
    "id": "4Z9RFaUbmG6M"
   },
   "source": [
    "# Optional1: Embedding Neural Network"
   ]
  },
  {
   "cell_type": "code",
   "execution_count": 27,
   "metadata": {
    "colab": {
     "base_uri": "https://localhost:8080/",
     "height": 319
    },
    "colab_type": "code",
    "id": "F2qPmx9TmG6Q",
    "outputId": "329e5e86-a972-46aa-eb65-4574bd814498"
   },
   "outputs": [
    {
     "name": "stdout",
     "output_type": "stream",
     "text": [
      "Model: \"sequential_1\"\n",
      "_________________________________________________________________\n",
      "Layer (type)                 Output Shape              Param #   \n",
      "=================================================================\n",
      "embedding_1 (Embedding)      (None, 200, 128)          1280000   \n",
      "_________________________________________________________________\n",
      "global_average_pooling1d (Gl (None, 128)               0         \n",
      "_________________________________________________________________\n",
      "dropout (Dropout)            (None, 128)               0         \n",
      "_________________________________________________________________\n",
      "dense_2 (Dense)              (None, 256)               33024     \n",
      "_________________________________________________________________\n",
      "dense_3 (Dense)              (None, 1)                 257       \n",
      "=================================================================\n",
      "Total params: 1,313,281\n",
      "Trainable params: 1,313,281\n",
      "Non-trainable params: 0\n",
      "_________________________________________________________________\n"
     ]
    }
   ],
   "source": [
    "model2 = tf.keras.Sequential([\n",
    "    tf.keras.layers.Embedding(vocab_size, embedding_dim, input_length=max_length), \n",
    "    tf.keras.layers.GlobalAveragePooling1D(), \n",
    "    tf.keras.layers.Dropout(.3), \n",
    "    tf.keras.layers.Dense(256, activation = 'relu'), \n",
    "    tf.keras.layers.Dense(1, activation = 'sigmoid')\n",
    "])\n",
    "\n",
    "model2.compile(loss = 'binary_crossentropy', optimizer = 'Adam', metrics = ['acc'])\n",
    "model2.summary()"
   ]
  },
  {
   "cell_type": "code",
   "execution_count": 28,
   "metadata": {
    "colab": {
     "base_uri": "https://localhost:8080/",
     "height": 689
    },
    "colab_type": "code",
    "id": "n2jTt5d2mG6T",
    "outputId": "fdd768ed-cb6c-43ef-ce9c-2c87c1aeebfc"
   },
   "outputs": [
    {
     "name": "stdout",
     "output_type": "stream",
     "text": [
      "Epoch 1/20\n",
      "4594/4594 [==============================] - 69s 15ms/step - loss: 0.5264 - acc: 0.7333 - val_loss: 0.4686 - val_acc: 0.7781\n",
      "Epoch 2/20\n",
      "4594/4594 [==============================] - 70s 15ms/step - loss: 0.4554 - acc: 0.7868 - val_loss: 0.4566 - val_acc: 0.7851\n",
      "Epoch 3/20\n",
      "4594/4594 [==============================] - 70s 15ms/step - loss: 0.4374 - acc: 0.7948 - val_loss: 0.5076 - val_acc: 0.7480\n",
      "Epoch 4/20\n",
      "4594/4594 [==============================] - 73s 16ms/step - loss: 0.4280 - acc: 0.7995 - val_loss: 0.4555 - val_acc: 0.7867\n",
      "Epoch 5/20\n",
      "4594/4594 [==============================] - 73s 16ms/step - loss: 0.4197 - acc: 0.8033 - val_loss: 0.4661 - val_acc: 0.7818\n",
      "Epoch 6/20\n",
      "4594/4594 [==============================] - 72s 16ms/step - loss: 0.4135 - acc: 0.8059 - val_loss: 0.4779 - val_acc: 0.7756\n",
      "Epoch 7/20\n",
      "4594/4594 [==============================] - 72s 16ms/step - loss: 0.4074 - acc: 0.8107 - val_loss: 0.4651 - val_acc: 0.7856\n",
      "Epoch 8/20\n",
      "4594/4594 [==============================] - 70s 15ms/step - loss: 0.4014 - acc: 0.8136 - val_loss: 0.4806 - val_acc: 0.7808\n",
      "Epoch 9/20\n",
      "4594/4594 [==============================] - 70s 15ms/step - loss: 0.3961 - acc: 0.8169 - val_loss: 0.4783 - val_acc: 0.7855\n",
      "Epoch 10/20\n",
      "4594/4594 [==============================] - 70s 15ms/step - loss: 0.3913 - acc: 0.8191 - val_loss: 0.4949 - val_acc: 0.7783\n",
      "Epoch 11/20\n",
      "4594/4594 [==============================] - 70s 15ms/step - loss: 0.3859 - acc: 0.8219 - val_loss: 0.4886 - val_acc: 0.7837\n",
      "Epoch 12/20\n",
      "4594/4594 [==============================] - 70s 15ms/step - loss: 0.3820 - acc: 0.8241 - val_loss: 0.4800 - val_acc: 0.7817\n",
      "Epoch 13/20\n",
      "4594/4594 [==============================] - 70s 15ms/step - loss: 0.3762 - acc: 0.8286 - val_loss: 0.4945 - val_acc: 0.7842\n",
      "Epoch 14/20\n",
      "4594/4594 [==============================] - 69s 15ms/step - loss: 0.3712 - acc: 0.8315 - val_loss: 0.4934 - val_acc: 0.7802\n",
      "Epoch 15/20\n",
      "4594/4594 [==============================] - 71s 15ms/step - loss: 0.3665 - acc: 0.8331 - val_loss: 0.5057 - val_acc: 0.7800\n",
      "Epoch 16/20\n",
      "4594/4594 [==============================] - 70s 15ms/step - loss: 0.3621 - acc: 0.8358 - val_loss: 0.5061 - val_acc: 0.7822\n",
      "Epoch 17/20\n",
      "4594/4594 [==============================] - 70s 15ms/step - loss: 0.3567 - acc: 0.8393 - val_loss: 0.5179 - val_acc: 0.7689\n",
      "Epoch 18/20\n",
      "4594/4594 [==============================] - 70s 15ms/step - loss: 0.3511 - acc: 0.8408 - val_loss: 0.5148 - val_acc: 0.7774\n",
      "Epoch 19/20\n",
      "4594/4594 [==============================] - 68s 15ms/step - loss: 0.3464 - acc: 0.8442 - val_loss: 0.5393 - val_acc: 0.7796\n",
      "Epoch 20/20\n",
      "4594/4594 [==============================] - 68s 15ms/step - loss: 0.3415 - acc: 0.8466 - val_loss: 0.5334 - val_acc: 0.7784\n"
     ]
    }
   ],
   "source": [
    "history2 = model2.fit(np.asarray(training_padded), np.asarray(y_train), \n",
    "                    epochs=num_epochs, \n",
    "                    validation_split=.3, \n",
    "                    verbose=1)"
   ]
  },
  {
   "cell_type": "code",
   "execution_count": 29,
   "metadata": {
    "colab": {
     "base_uri": "https://localhost:8080/",
     "height": 541
    },
    "colab_type": "code",
    "id": "BiH28WoqmG6W",
    "outputId": "da40578a-b2b8-4e60-efdf-b82ca87b999b"
   },
   "outputs": [
    {
     "data": {
      "image/png": "[encoded data removed]",
      "text/plain": [
       "<Figure size 432x288 with 1 Axes>"
      ]
     },
     "metadata": {
      "needs_background": "light",
      "tags": []
     },
     "output_type": "display_data"
    },
    {
     "data": {
      "image/png": "[encoded data removed]",
      "text/plain": [
       "<Figure size 432x288 with 1 Axes>"
      ]
     },
     "metadata": {
      "needs_background": "light",
      "tags": []
     },
     "output_type": "display_data"
    }
   ],
   "source": [
    "import matplotlib.pyplot as plt\n",
    "\n",
    "\n",
    "def plot_graphs(history, string):\n",
    "  plt.plot(history2.history[string])\n",
    "  plt.plot(history2.history['val_'+string])\n",
    "  plt.xlabel(\"Epochs\")\n",
    "  plt.ylabel(string)\n",
    "  plt.legend([string, 'val_'+string])\n",
    "  plt.show()\n",
    "  \n",
    "plot_graphs(history2, \"acc\")\n",
    "plot_graphs(history2, \"loss\")"
   ]
  },
  {
   "cell_type": "markdown",
   "metadata": {
    "colab_type": "text",
    "id": "T1_O6TpJ2ENV"
   },
   "source": [
    "# Optional2: 1D Convolutional"
   ]
  },
  {
   "cell_type": "code",
   "execution_count": 30,
   "metadata": {
    "colab": {
     "base_uri": "https://localhost:8080/",
     "height": 319
    },
    "colab_type": "code",
    "id": "KzEJ02KR2DsF",
    "outputId": "3487a269-fb50-428d-d2fe-f9f562e116d9"
   },
   "outputs": [
    {
     "name": "stdout",
     "output_type": "stream",
     "text": [
      "Model: \"sequential_2\"\n",
      "_________________________________________________________________\n",
      "Layer (type)                 Output Shape              Param #   \n",
      "=================================================================\n",
      "embedding_2 (Embedding)      (None, 200, 128)          1280000   \n",
      "_________________________________________________________________\n",
      "conv1d (Conv1D)              (None, 196, 128)          82048     \n",
      "_________________________________________________________________\n",
      "global_average_pooling1d_1 ( (None, 128)               0         \n",
      "_________________________________________________________________\n",
      "dense_4 (Dense)              (None, 256)               33024     \n",
      "_________________________________________________________________\n",
      "dense_5 (Dense)              (None, 1)                 257       \n",
      "=================================================================\n",
      "Total params: 1,395,329\n",
      "Trainable params: 1,395,329\n",
      "Non-trainable params: 0\n",
      "_________________________________________________________________\n"
     ]
    }
   ],
   "source": [
    "model3 = tf.keras.Sequential([\n",
    "    tf.keras.layers.Embedding(vocab_size, embedding_dim, input_length=max_length),\n",
    "    tf.keras.layers.Conv1D(128, 5, activation='relu'),\n",
    "    tf.keras.layers.GlobalAveragePooling1D(),\n",
    "    tf.keras.layers.Dense(256, activation='relu'),\n",
    "    tf.keras.layers.Dense(1, activation='sigmoid')\n",
    "])\n",
    "\n",
    "model3.compile(loss='binary_crossentropy',optimizer='adam',metrics=['acc'])\n",
    "model3.summary()"
   ]
  },
  {
   "cell_type": "code",
   "execution_count": 31,
   "metadata": {
    "colab": {
     "base_uri": "https://localhost:8080/",
     "height": 689
    },
    "colab_type": "code",
    "id": "2mYC2n_C2UvK",
    "outputId": "818d70f1-0a3c-4062-d98d-3788634cfc5b"
   },
   "outputs": [
    {
     "name": "stdout",
     "output_type": "stream",
     "text": [
      "Epoch 1/20\n",
      "4594/4594 [==============================] - 74s 16ms/step - loss: 0.4792 - acc: 0.7681 - val_loss: 0.4480 - val_acc: 0.7902\n",
      "Epoch 2/20\n",
      "4594/4594 [==============================] - 74s 16ms/step - loss: 0.4127 - acc: 0.8106 - val_loss: 0.4373 - val_acc: 0.7954\n",
      "Epoch 3/20\n",
      "4594/4594 [==============================] - 74s 16ms/step - loss: 0.3731 - acc: 0.8323 - val_loss: 0.4510 - val_acc: 0.7946\n",
      "Epoch 4/20\n",
      "4594/4594 [==============================] - 74s 16ms/step - loss: 0.3330 - acc: 0.8537 - val_loss: 0.4692 - val_acc: 0.7882\n",
      "Epoch 5/20\n",
      "4594/4594 [==============================] - 73s 16ms/step - loss: 0.2920 - acc: 0.8737 - val_loss: 0.5296 - val_acc: 0.7848\n",
      "Epoch 6/20\n",
      "4594/4594 [==============================] - 73s 16ms/step - loss: 0.2531 - acc: 0.8912 - val_loss: 0.5988 - val_acc: 0.7716\n",
      "Epoch 7/20\n",
      "4594/4594 [==============================] - 72s 16ms/step - loss: 0.2184 - acc: 0.9069 - val_loss: 0.7175 - val_acc: 0.7734\n",
      "Epoch 8/20\n",
      "4594/4594 [==============================] - 73s 16ms/step - loss: 0.1893 - acc: 0.9199 - val_loss: 0.8404 - val_acc: 0.7665\n",
      "Epoch 9/20\n",
      "4594/4594 [==============================] - 73s 16ms/step - loss: 0.1647 - acc: 0.9303 - val_loss: 0.9791 - val_acc: 0.7686\n",
      "Epoch 10/20\n",
      "4594/4594 [==============================] - 72s 16ms/step - loss: 0.1453 - acc: 0.9384 - val_loss: 1.1729 - val_acc: 0.7620\n",
      "Epoch 11/20\n",
      "4594/4594 [==============================] - 73s 16ms/step - loss: 0.1282 - acc: 0.9455 - val_loss: 1.2744 - val_acc: 0.7645\n",
      "Epoch 12/20\n",
      "4594/4594 [==============================] - 72s 16ms/step - loss: 0.1151 - acc: 0.9509 - val_loss: 1.4602 - val_acc: 0.7614\n",
      "Epoch 13/20\n",
      "4594/4594 [==============================] - 72s 16ms/step - loss: 0.1022 - acc: 0.9566 - val_loss: 1.4955 - val_acc: 0.7540\n",
      "Epoch 14/20\n",
      "4594/4594 [==============================] - 72s 16ms/step - loss: 0.0926 - acc: 0.9608 - val_loss: 1.6851 - val_acc: 0.7560\n",
      "Epoch 15/20\n",
      "4594/4594 [==============================] - 72s 16ms/step - loss: 0.0843 - acc: 0.9642 - val_loss: 1.7560 - val_acc: 0.7475\n",
      "Epoch 16/20\n",
      "4594/4594 [==============================] - 72s 16ms/step - loss: 0.0756 - acc: 0.9680 - val_loss: 1.9808 - val_acc: 0.7539\n",
      "Epoch 17/20\n",
      "4594/4594 [==============================] - 72s 16ms/step - loss: 0.0707 - acc: 0.9702 - val_loss: 2.0180 - val_acc: 0.7506\n",
      "Epoch 18/20\n",
      "4594/4594 [==============================] - 72s 16ms/step - loss: 0.0649 - acc: 0.9730 - val_loss: 2.1827 - val_acc: 0.7551\n",
      "Epoch 19/20\n",
      "4594/4594 [==============================] - 72s 16ms/step - loss: 0.0600 - acc: 0.9755 - val_loss: 2.3173 - val_acc: 0.7537\n",
      "Epoch 20/20\n",
      "4594/4594 [==============================] - 71s 15ms/step - loss: 0.0541 - acc: 0.9776 - val_loss: 2.4839 - val_acc: 0.7547\n"
     ]
    }
   ],
   "source": [
    "history3 = model3.fit(np.asarray(training_padded), np.asarray(y_train), \n",
    "                    epochs=num_epochs, \n",
    "                    validation_split=.3, \n",
    "                    verbose=1)"
   ]
  },
  {
   "cell_type": "code",
   "execution_count": 32,
   "metadata": {
    "colab": {
     "base_uri": "https://localhost:8080/",
     "height": 541
    },
    "colab_type": "code",
    "id": "avOcz0Ma2PkO",
    "outputId": "23535c7e-52a3-47ab-c4ae-bec852caf920"
   },
   "outputs": [
    {
     "data": {
      "image/png": "[encoded data removed]",
      "text/plain": [
       "<Figure size 432x288 with 1 Axes>"
      ]
     },
     "metadata": {
      "needs_background": "light",
      "tags": []
     },
     "output_type": "display_data"
    },
    {
     "data": {
      "image/png": "[encoded data removed]",
      "text/plain": [
       "<Figure size 432x288 with 1 Axes>"
      ]
     },
     "metadata": {
      "needs_background": "light",
      "tags": []
     },
     "output_type": "display_data"
    }
   ],
   "source": [
    "import matplotlib.pyplot as plt\n",
    "\n",
    "\n",
    "def plot_graphs(history, string):\n",
    "  plt.plot(history3.history[string])\n",
    "  plt.plot(history3.history['val_'+string])\n",
    "  plt.xlabel(\"Epochs\")\n",
    "  plt.ylabel(string)\n",
    "  plt.legend([string, 'val_'+string])\n",
    "  plt.show()\n",
    "  \n",
    "plot_graphs(history3, \"acc\")\n",
    "plot_graphs(history3, \"loss\")"
   ]
  },
  {
   "cell_type": "markdown",
   "metadata": {
    "colab_type": "text",
    "id": "w2QplNJF26zz"
   },
   "source": [
    "# Optional3: GRUs"
   ]
  },
  {
   "cell_type": "code",
   "execution_count": 33,
   "metadata": {
    "colab": {
     "base_uri": "https://localhost:8080/",
     "height": 286
    },
    "colab_type": "code",
    "id": "gy5Y1Zaa299k",
    "outputId": "3814c312-a3b1-4588-8dab-e48e782b42f4"
   },
   "outputs": [
    {
     "name": "stdout",
     "output_type": "stream",
     "text": [
      "Model: \"sequential_3\"\n",
      "_________________________________________________________________\n",
      "Layer (type)                 Output Shape              Param #   \n",
      "=================================================================\n",
      "embedding_3 (Embedding)      (None, 200, 128)          1280000   \n",
      "_________________________________________________________________\n",
      "bidirectional_1 (Bidirection (None, 128)               74496     \n",
      "_________________________________________________________________\n",
      "dense_6 (Dense)              (None, 256)               33024     \n",
      "_________________________________________________________________\n",
      "dense_7 (Dense)              (None, 1)                 257       \n",
      "=================================================================\n",
      "Total params: 1,387,777\n",
      "Trainable params: 1,387,777\n",
      "Non-trainable params: 0\n",
      "_________________________________________________________________\n"
     ]
    }
   ],
   "source": [
    "model4 = tf.keras.Sequential([\n",
    "    tf.keras.layers.Embedding(vocab_size, embedding_dim, input_length=max_length),\n",
    "    tf.keras.layers.Bidirectional(tf.keras.layers.GRU(64)),\n",
    "    tf.keras.layers.Dense(256, activation='relu'),\n",
    "    tf.keras.layers.Dense(1, activation='sigmoid')\n",
    "])\n",
    "\n",
    "model4.compile(loss='binary_crossentropy',optimizer='adam',metrics=['acc'])\n",
    "model4.summary()"
   ]
  },
  {
   "cell_type": "code",
   "execution_count": 34,
   "metadata": {
    "colab": {
     "base_uri": "https://localhost:8080/",
     "height": 689
    },
    "colab_type": "code",
    "id": "xXNSbjpj3TGa",
    "outputId": "f92427c2-61f3-4978-dd5f-3678ce7e9953"
   },
   "outputs": [
    {
     "name": "stdout",
     "output_type": "stream",
     "text": [
      "Epoch 1/20\n",
      "4594/4594 [==============================] - 141s 31ms/step - loss: 0.4668 - acc: 0.7765 - val_loss: 0.4352 - val_acc: 0.7971\n",
      "Epoch 2/20\n",
      "4594/4594 [==============================] - 141s 31ms/step - loss: 0.3972 - acc: 0.8189 - val_loss: 0.4433 - val_acc: 0.7984\n",
      "Epoch 3/20\n",
      "4594/4594 [==============================] - 141s 31ms/step - loss: 0.3564 - acc: 0.8397 - val_loss: 0.4403 - val_acc: 0.7984\n",
      "Epoch 4/20\n",
      "4594/4594 [==============================] - 142s 31ms/step - loss: 0.3157 - acc: 0.8590 - val_loss: 0.4894 - val_acc: 0.7924\n",
      "Epoch 5/20\n",
      "4594/4594 [==============================] - 142s 31ms/step - loss: 0.2710 - acc: 0.8804 - val_loss: 0.5353 - val_acc: 0.7847\n",
      "Epoch 6/20\n",
      "4594/4594 [==============================] - 141s 31ms/step - loss: 0.2276 - acc: 0.9003 - val_loss: 0.6383 - val_acc: 0.7800\n",
      "Epoch 7/20\n",
      "4594/4594 [==============================] - 140s 31ms/step - loss: 0.1874 - acc: 0.9185 - val_loss: 0.7213 - val_acc: 0.7735\n",
      "Epoch 8/20\n",
      "4594/4594 [==============================] - 140s 30ms/step - loss: 0.1549 - acc: 0.9325 - val_loss: 0.8552 - val_acc: 0.7691\n",
      "Epoch 9/20\n",
      "4594/4594 [==============================] - 141s 31ms/step - loss: 0.1311 - acc: 0.9435 - val_loss: 1.0425 - val_acc: 0.7648\n",
      "Epoch 10/20\n",
      "4594/4594 [==============================] - 140s 31ms/step - loss: 0.1116 - acc: 0.9513 - val_loss: 1.1671 - val_acc: 0.7666\n",
      "Epoch 11/20\n",
      "4594/4594 [==============================] - 140s 30ms/step - loss: 0.0958 - acc: 0.9592 - val_loss: 1.2982 - val_acc: 0.7629\n",
      "Epoch 12/20\n",
      "4594/4594 [==============================] - 139s 30ms/step - loss: 0.0846 - acc: 0.9637 - val_loss: 1.2182 - val_acc: 0.7549\n",
      "Epoch 13/20\n",
      "4594/4594 [==============================] - 140s 31ms/step - loss: 0.0768 - acc: 0.9674 - val_loss: 1.5322 - val_acc: 0.7597\n",
      "Epoch 14/20\n",
      "4594/4594 [==============================] - 140s 30ms/step - loss: 0.0675 - acc: 0.9711 - val_loss: 1.4411 - val_acc: 0.7602\n",
      "Epoch 15/20\n",
      "4594/4594 [==============================] - 140s 30ms/step - loss: 0.0622 - acc: 0.9737 - val_loss: 1.6097 - val_acc: 0.7567\n",
      "Epoch 16/20\n",
      "4594/4594 [==============================] - 139s 30ms/step - loss: 0.0584 - acc: 0.9752 - val_loss: 1.5300 - val_acc: 0.7599\n",
      "Epoch 17/20\n",
      "4594/4594 [==============================] - 140s 30ms/step - loss: 0.0550 - acc: 0.9772 - val_loss: 1.5633 - val_acc: 0.7584\n",
      "Epoch 18/20\n",
      "4594/4594 [==============================] - 140s 30ms/step - loss: 0.0550 - acc: 0.9773 - val_loss: 1.5969 - val_acc: 0.7559\n",
      "Epoch 19/20\n",
      "4594/4594 [==============================] - 139s 30ms/step - loss: 0.0433 - acc: 0.9816 - val_loss: 2.0074 - val_acc: 0.7642\n",
      "Epoch 20/20\n",
      "4594/4594 [==============================] - 140s 30ms/step - loss: 0.0441 - acc: 0.9815 - val_loss: 1.8433 - val_acc: 0.7583\n"
     ]
    }
   ],
   "source": [
    "history4 = model4.fit(np.asarray(training_padded), np.asarray(y_train), \n",
    "                    epochs=num_epochs, \n",
    "                    validation_split=.3, \n",
    "                    verbose=1)"
   ]
  },
  {
   "cell_type": "code",
   "execution_count": 35,
   "metadata": {
    "colab": {
     "base_uri": "https://localhost:8080/",
     "height": 541
    },
    "colab_type": "code",
    "id": "XBFMuZO63ami",
    "outputId": "17b066ec-5cee-4a52-8083-811b4c62ea22"
   },
   "outputs": [
    {
     "data": {
      "image/png": "[encoded data removed]",
      "text/plain": [
       "<Figure size 432x288 with 1 Axes>"
      ]
     },
     "metadata": {
      "needs_background": "light",
      "tags": []
     },
     "output_type": "display_data"
    },
    {
     "data": {
      "image/png": "[encoded data removed]",
      "text/plain": [
       "<Figure size 432x288 with 1 Axes>"
      ]
     },
     "metadata": {
      "needs_background": "light",
      "tags": []
     },
     "output_type": "display_data"
    }
   ],
   "source": [
    "import matplotlib.pyplot as plt\n",
    "\n",
    "\n",
    "def plot_graphs(history, string):\n",
    "  plt.plot(history4.history[string])\n",
    "  plt.plot(history4.history['val_'+string])\n",
    "  plt.xlabel(\"Epochs\")\n",
    "  plt.ylabel(string)\n",
    "  plt.legend([string, 'val_'+string])\n",
    "  plt.show()\n",
    "  \n",
    "plot_graphs(history4, \"acc\")\n",
    "plot_graphs(history4, \"loss\")"
   ]
  },
  {
   "cell_type": "markdown",
   "metadata": {
    "colab_type": "text",
    "id": "MEBkMC621d0J"
   },
   "source": [
    "#Predicting (From LSTM)"
   ]
  },
  {
   "cell_type": "code",
   "execution_count": 36,
   "metadata": {
    "colab": {
     "base_uri": "https://localhost:8080/",
     "height": 34
    },
    "colab_type": "code",
    "id": "5XjOJrF8MSKW",
    "outputId": "895454af-7d45-4a82-b706-1176d67c1c39"
   },
   "outputs": [
    {
     "name": "stdout",
     "output_type": "stream",
     "text": [
      "2813/2813 [==============================] - 30s 11ms/step\n"
     ]
    }
   ],
   "source": [
    "scores = model1.predict(testing_padded, verbose=1)"
   ]
  },
  {
   "cell_type": "code",
   "execution_count": 0,
   "metadata": {
    "colab": {},
    "colab_type": "code",
    "id": "ClPevrzqjclc"
   },
   "outputs": [],
   "source": [
    "y_pred=np.where(scores>0.5,1,0)"
   ]
  },
  {
   "cell_type": "code",
   "execution_count": 38,
   "metadata": {
    "colab": {
     "base_uri": "https://localhost:8080/",
     "height": 134
    },
    "colab_type": "code",
    "id": "7QgxJFecmz0C",
    "outputId": "c5375e47-bc81-41db-f6d2-2ac544c4254a"
   },
   "outputs": [
    {
     "data": {
      "text/plain": [
       "array([[1],\n",
       "       [1],\n",
       "       [0],\n",
       "       ...,\n",
       "       [1],\n",
       "       [1],\n",
       "       [0]])"
      ]
     },
     "execution_count": 38,
     "metadata": {
      "tags": []
     },
     "output_type": "execute_result"
    }
   ],
   "source": [
    "y_pred"
   ]
  },
  {
   "cell_type": "code",
   "execution_count": 0,
   "metadata": {
    "colab": {},
    "colab_type": "code",
    "id": "Mmt9eQj1pBgz"
   },
   "outputs": [],
   "source": [
    "from sklearn import metrics"
   ]
  },
  {
   "cell_type": "code",
   "execution_count": 40,
   "metadata": {
    "colab": {
     "base_uri": "https://localhost:8080/",
     "height": 168
    },
    "colab_type": "code",
    "id": "pnzuuPziomSS",
    "outputId": "5b4cb1be-6a34-4a39-fa34-8b2fa67c5915"
   },
   "outputs": [
    {
     "name": "stdout",
     "output_type": "stream",
     "text": [
      "              precision    recall  f1-score   support\n",
      "\n",
      "           0       0.76      0.76      0.76     44917\n",
      "           1       0.76      0.77      0.76     45083\n",
      "\n",
      "    accuracy                           0.76     90000\n",
      "   macro avg       0.76      0.76      0.76     90000\n",
      "weighted avg       0.76      0.76      0.76     90000\n",
      "\n"
     ]
    }
   ],
   "source": [
    "print(metrics.classification_report(y_pred,y_test))"
   ]
  },
  {
   "cell_type": "markdown",
   "metadata": {
    "colab_type": "text",
    "id": "3V7Z7zMb0Y2F"
   },
   "source": [
    "# Best Model Accuracy"
   ]
  },
  {
   "cell_type": "code",
   "execution_count": 43,
   "metadata": {
    "colab": {
     "base_uri": "https://localhost:8080/",
     "height": 252
    },
    "colab_type": "code",
    "id": "XHUNzjZx0QsE",
    "outputId": "9e99ca4f-9723-4c5b-ed16-5ff0bde9767b"
   },
   "outputs": [
    {
     "name": "stdout",
     "output_type": "stream",
     "text": [
      "2813/2813 [==============================] - 30s 11ms/step\n",
      "\n",
      " [[36127  9215]\n",
      " [ 8630 36028]]\n",
      "----------------------------------------------------------------------------------------------------\n",
      "              precision    recall  f1-score   support\n",
      "\n",
      "           0       0.81      0.80      0.80     45342\n",
      "           1       0.80      0.81      0.80     44658\n",
      "\n",
      "    accuracy                           0.80     90000\n",
      "   macro avg       0.80      0.80      0.80     90000\n",
      "weighted avg       0.80      0.80      0.80     90000\n",
      "\n"
     ]
    }
   ],
   "source": [
    "best_model = tf.keras.models.load_model('/content/drive/My Drive/models/model-002-0.814442-0.802032.h5') #LSTM 2nd epochs\n",
    "y_best = best_model.predict(testing_padded, verbose=1)\n",
    "y_best=np.where(y_best>0.5,1,0)\n",
    "print('\\n', metrics.confusion_matrix(y_best, y_test))\n",
    "print('-'*100)\n",
    "print(metrics.classification_report(y_best,y_test))"
   ]
  }
 ],
 "metadata": {
  "accelerator": "GPU",
  "colab": {
   "collapsed_sections": [],
   "name": "Sentiment Analysis.ipynb",
   "provenance": []
  },
  "kernelspec": {
   "display_name": "Python 3",
   "language": "python",
   "name": "python3"
  },
  "language_info": {
   "codemirror_mode": {
    "name": "ipython",
    "version": 3
   },
   "file_extension": ".py",
   "mimetype": "text/x-python",
   "name": "python",
   "nbconvert_exporter": "python",
   "pygments_lexer": "ipython3",
   "version": "3.7.6"
  }
 },
 "nbformat": 4,
 "nbformat_minor": 1
}
